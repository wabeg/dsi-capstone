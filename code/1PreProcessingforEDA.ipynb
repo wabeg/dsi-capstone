{
 "cells": [
  {
   "cell_type": "code",
   "execution_count": 1,
   "id": "e4948226-4fc4-4bf4-b662-77ffc51e5994",
   "metadata": {},
   "outputs": [
    {
     "name": "stdout",
     "output_type": "stream",
     "text": [
      "C:\\Users\\gawie\\Desktop\\my_files\\projects\\capstone\\data\n"
     ]
    }
   ],
   "source": [
    "%cd ../data"
   ]
  },
  {
   "cell_type": "code",
   "execution_count": 2,
   "id": "b9d7cb7a-7269-42b2-9160-c8767ffca30c",
   "metadata": {},
   "outputs": [],
   "source": [
    "import pandas as pd\n",
    "import sqlite3\n",
    "import ast\n",
    "from sklearn.preprocessing import MultiLabelBinarizer, OneHotEncoder"
   ]
  },
  {
   "cell_type": "code",
   "execution_count": 3,
   "id": "dd4ee89a-5b8f-4183-aa06-b878d24ac8de",
   "metadata": {},
   "outputs": [],
   "source": [
    "conn = sqlite3.connect('valorant.db')\n",
    "\n",
    "matches_df = pd.read_sql_query(\"SELECT * FROM Matches\", conn)\n",
    "games_df = pd.read_sql_query(\"SELECT * FROM Games\", conn)\n",
    "game_rounds_df = pd.read_sql_query(\"SELECT * FROM Game_Rounds\", conn)\n",
    "game_scoreboard_df = pd.read_sql_query(\"SELECT * FROM Game_Scoreboard\", conn)\n",
    "conn.close()"
   ]
  },
  {
   "cell_type": "code",
   "execution_count": 4,
   "id": "61d80ff6-cf83-46db-b16c-813b849581b9",
   "metadata": {},
   "outputs": [],
   "source": [
    "game_rounds_df.dropna(inplace=True)"
   ]
  },
  {
   "cell_type": "code",
   "execution_count": 5,
   "id": "976712c0-a936-446a-9612-93d8e02dfe37",
   "metadata": {},
   "outputs": [],
   "source": [
    "game_rounds_df.reset_index(inplace=True)"
   ]
  },
  {
   "cell_type": "code",
   "execution_count": 6,
   "id": "7b8e6686-b366-4726-a8be-94f87572a0fd",
   "metadata": {},
   "outputs": [
    {
     "data": {
      "text/plain": [
       "24077"
      ]
     },
     "execution_count": 6,
     "metadata": {},
     "output_type": "execute_result"
    }
   ],
   "source": [
    "len(game_rounds_df)"
   ]
  },
  {
   "cell_type": "code",
   "execution_count": 7,
   "id": "7dd8db3c-54a6-4303-bdfd-8701a910e150",
   "metadata": {},
   "outputs": [
    {
     "name": "stdout",
     "output_type": "stream",
     "text": [
      "C:\\Users\\gawie\\Desktop\\my_files\\projects\\capstone\\code\n"
     ]
    }
   ],
   "source": [
    "%cd ../code"
   ]
  },
  {
   "cell_type": "markdown",
   "id": "47043d77-6585-4624-a154-5f8aa40743dc",
   "metadata": {},
   "source": [
    "### Creating DataFrame from Database"
   ]
  },
  {
   "cell_type": "code",
   "execution_count": 8,
   "id": "4c7e7f9d-f79e-45fd-a187-f7faf9dbbd21",
   "metadata": {},
   "outputs": [],
   "source": [
    "# create empty dataframe\n",
    "df = pd.DataFrame()\n",
    "\n",
    "# loop through each game\n",
    "for game in range(len(game_rounds_df['RoundHistory'])):\n",
    "    # try to create a dataframe from the RoundHistory column\n",
    "    try:\n",
    "        # create a dataframe from the RoundHistory column\n",
    "        temp_df = pd.DataFrame(ast.literal_eval(game_rounds_df.iloc[game]['RoundHistory'])).T\n",
    "        # add the GameID, Team1ID, and Team2ID columns\n",
    "        temp_df['GameID'] = game_rounds_df['GameID'][game]\n",
    "        temp_df['Team1ID']= game_rounds_df['Team1ID'][game]\n",
    "        temp_df['Team2ID'] = game_rounds_df['Team2ID'][game]\n",
    "        # if the first round score is 1-0, then the first team is Team1Abbr\n",
    "        if int(temp_df['ScoreAfterRound'][1].split('-')[0]) == 1:\n",
    "            temp_df['Team1Abbr']= temp_df['|RoundWinner'].unique()[0]\n",
    "            # if there are two unique winners, then the second team is Team2Abbr\n",
    "            if len(temp_df['RoundWinner'].unique())==2:\n",
    "                temp_df['Team2Abbr']= temp_df['RoundWinner'].unique()[1]\n",
    "        # if the first round score is 0-1, then the first team is Team2Abbr\n",
    "        else:\n",
    "            temp_df['Team2Abbr']= temp_df['RoundWinner'].unique()[0]\n",
    "            # if there are two unique winners, then the second team is Team1Abbr\n",
    "            if len(temp_df['RoundWinner'].unique())==2:\n",
    "                temp_df['Team1Abbr']= temp_df['RoundWinner'].unique()[1]\n",
    "        # create a column for whether Team1 won the round\n",
    "        temp_df['Team1Win'] = [1 if temp_df['Team1Abbr'][round+1] == temp_df['RoundWinner'][round+1] else 0 for round in range(len(temp_df['RoundWinner']))]\n",
    "        # create columns for whether Team1 won the previous rounds\n",
    "        temp_df['Team1WinLag1'] = temp_df['Team1Win'].shift(1)\n",
    "        temp_df['Team1WinLag2'] = temp_df['Team1Win'].shift(2)\n",
    "        temp_df['Team1WinLag3'] = temp_df['Team1Win'].shift(3)\n",
    "        temp_df['Team1WinLag4'] = temp_df['Team1Win'].shift(4)\n",
    "        temp_df['Team1WinLag5'] = temp_df['Team1Win'].shift(5)\n",
    "        temp_df['Team1WinLag6'] = temp_df['Team1Win'].shift(6)\n",
    "        temp_df['Team1WinLag7'] = temp_df['Team1Win'].shift(7)\n",
    "        temp_df['Team1WinLag8'] = temp_df['Team1Win'].shift(8)\n",
    "        # create columns for Team1's bank in the previous rounds\n",
    "        temp_df['Team1BankLag1'] = temp_df['Team1Bank'].shift(1)\n",
    "        temp_df['Team1BankLag2'] = temp_df['Team1Bank'].shift(2)\n",
    "        temp_df['Team1BankLag3'] = temp_df['Team1Bank'].shift(3)\n",
    "        temp_df['Team1BankLag4'] = temp_df['Team1Bank'].shift(4)\n",
    "        temp_df['Team1BankLag5'] = temp_df['Team1Bank'].shift(5)\n",
    "        temp_df['Team1BankLag6'] = temp_df['Team1Bank'].shift(6)\n",
    "        temp_df['Team1BankLag7'] = temp_df['Team1Bank'].shift(7)\n",
    "        temp_df['Team1BankLag8'] = temp_df['Team1Bank'].shift(8)\n",
    "        # create columns for Team2's bank in the previous rounds\n",
    "        temp_df['Team2BankLag1'] = temp_df['Team2Bank'].shift(1)\n",
    "        temp_df['Team2BankLag2'] = temp_df['Team2Bank'].shift(2)\n",
    "        temp_df['Team2BankLag3'] = temp_df['Team2Bank'].shift(3)\n",
    "        temp_df['Team2BankLag4'] = temp_df['Team2Bank'].shift(4)\n",
    "        temp_df['Team2BankLag5'] = temp_df['Team2Bank'].shift(5)\n",
    "        temp_df['Team2BankLag6'] = temp_df['Team2Bank'].shift(6)\n",
    "        temp_df['Team2BankLag7'] = temp_df['Team2Bank'].shift(7)\n",
    "        temp_df['Team2BankLag8'] = temp_df['Team2Bank'].shift(8)         \n",
    "        # create a column for the round number\n",
    "        temp_df['RoundNo'] = [row+1 for row in range(len(temp_df))]\n",
    "        # create a column for the difference in score between the two teams\n",
    "        temp_df['RoundDiff'] = [int(temp_df['ScoreAfterRound'][row+1].split('-')[0]) - int(temp_df['ScoreAfterRound'][row+1].split('-')[1]) for row in range(len(temp_df)) if row < len(temp_df)]\n",
    "        # shift the RoundDiff column up one row\n",
    "        temp_df['RoundDiff'] = temp_df['RoundDiff'].shift(1).fillna(0)\n",
    "        # add the temp_df to the df\n",
    "        df = pd.concat([df, temp_df], ignore_index=True)\n",
    "    # if there is a KeyError, then the game is not a full game\n",
    "    except KeyError:\n",
    "        pass"
   ]
  },
  {
   "cell_type": "code",
   "execution_count": 9,
   "id": "fffeec4a-4b5f-4d69-9dda-cbd66eecb913",
   "metadata": {},
   "outputs": [],
   "source": [
    "df.drop_duplicates(inplace=True)"
   ]
  },
  {
   "cell_type": "code",
   "execution_count": 10,
   "id": "e44c87ca-ebe6-4fb8-a349-33664a1fef9c",
   "metadata": {},
   "outputs": [],
   "source": [
    "comps = pd.DataFrame(game_scoreboard_df[['GameID','TeamAbbreviation', 'Agent']].groupby(by=['GameID','TeamAbbreviation'])['Agent'].unique())"
   ]
  },
  {
   "cell_type": "code",
   "execution_count": 11,
   "id": "88e1c8b9-6f09-4b32-9e0c-4c0a6d9fba4f",
   "metadata": {},
   "outputs": [
    {
     "data": {
      "text/plain": [
       "Agent    object\n",
       "dtype: object"
      ]
     },
     "execution_count": 11,
     "metadata": {},
     "output_type": "execute_result"
    }
   ],
   "source": [
    "comps.dtypes"
   ]
  },
  {
   "cell_type": "code",
   "execution_count": 12,
   "id": "69467caa-fd3d-4e64-8690-6c50ffb1c9e7",
   "metadata": {},
   "outputs": [],
   "source": [
    "comps.reset_index(inplace=True)"
   ]
  },
  {
   "cell_type": "code",
   "execution_count": 13,
   "id": "581a7e27-fea1-462f-ba49-271d8c4a6ada",
   "metadata": {},
   "outputs": [],
   "source": [
    "df = df.astype({'GameID': 'object','Team1Abbr':'object'})"
   ]
  },
  {
   "cell_type": "code",
   "execution_count": 14,
   "id": "a9403a4d-4c88-4f07-86bc-58ba733d58b1",
   "metadata": {},
   "outputs": [],
   "source": [
    "df = df.dropna(subset=['Team1Abbr', 'Team2Abbr'])"
   ]
  },
  {
   "cell_type": "markdown",
   "id": "2b385042-fad8-4365-9dcc-6fca116b5b42",
   "metadata": {},
   "source": [
    "### Adding Team Composition to the DataFrame"
   ]
  },
  {
   "cell_type": "code",
   "execution_count": 15,
   "id": "1b1d5eac-9ab3-4625-a74c-e0d693dc122a",
   "metadata": {
    "tags": []
   },
   "outputs": [],
   "source": [
    "# merge rounds_df with comps_df to get the agents for Team 1\n",
    "rounds_comp = df.merge(comps,how='left', left_on=['GameID','Team1Abbr'], right_on=['GameID','TeamAbbreviation'])\n",
    "\n",
    "# rename the agent column to team1Comp\n",
    "rounds_comp.rename(columns={'Agent':'team1Comp'}, inplace=True)\n",
    "\n",
    "# merge rounds_comp with comps_df to get the agents for Team 2\n",
    "rounds_comp = rounds_comp.merge(comps,how='left', left_on=['GameID','Team2Abbr'], right_on=['GameID','TeamAbbreviation'])\n",
    "\n",
    "# rename the agent column to team2Comp\n",
    "rounds_comp.rename(columns={'Agent':'team2Comp'}, inplace=True)\n",
    "\n",
    "# drop the TeamAbbreviation columns\n",
    "rounds_comp = rounds_comp.drop(columns=['TeamAbbreviation_x', 'TeamAbbreviation_y'])\n",
    "\n",
    "# merge rounds_comp with games_df to get the map for each game\n",
    "rounds_comp = rounds_comp.merge(games_df[['GameID','Map']], how='left', on=['GameID'])"
   ]
  },
  {
   "cell_type": "code",
   "execution_count": 16,
   "id": "c88475bc-f008-4fae-999b-7b588ab6c62c",
   "metadata": {},
   "outputs": [],
   "source": [
    "rounds_comp.dropna(subset=['team1Comp','team2Comp'], inplace=True)"
   ]
  },
  {
   "cell_type": "code",
   "execution_count": 17,
   "id": "22df7acf-9bf2-4f39-b59a-221a741e0a59",
   "metadata": {},
   "outputs": [],
   "source": [
    "# create a sparse matrix for the team2Comp column\n",
    "mlb = MultiLabelBinarizer(sparse_output=True)\n",
    "\n",
    "# join the sparse matrix to the rounds_comp dataframe\n",
    "rounds_comp = rounds_comp.join(\n",
    "            pd.DataFrame.sparse.from_spmatrix(\n",
    "                mlb.fit_transform(rounds_comp.pop('team2Comp')),\n",
    "                index=rounds_comp.index,\n",
    "                columns=['team2_' + x for x in mlb.classes_]))"
   ]
  },
  {
   "cell_type": "code",
   "execution_count": 18,
   "id": "86d56ecf-86e5-41ac-b2e2-0563c9f2f381",
   "metadata": {},
   "outputs": [],
   "source": [
    "mlb = MultiLabelBinarizer(sparse_output=True)\n",
    "rounds_comp = rounds_comp.join(\n",
    "            pd.DataFrame.sparse.from_spmatrix(\n",
    "                mlb.fit_transform(rounds_comp.pop('team1Comp')),\n",
    "                index=rounds_comp.index,\n",
    "                columns=['team1_' + x for x in mlb.classes_]))"
   ]
  },
  {
   "cell_type": "code",
   "execution_count": 19,
   "id": "e17bf5d7-475e-4f1a-b42e-929135d51ac5",
   "metadata": {},
   "outputs": [],
   "source": [
    "#rounds_comp.to_csv('../data/round_comps.csv')"
   ]
  }
 ],
 "metadata": {
  "kernelspec": {
   "display_name": "Python 3 (ipykernel)",
   "language": "python",
   "name": "python3"
  },
  "language_info": {
   "codemirror_mode": {
    "name": "ipython",
    "version": 3
   },
   "file_extension": ".py",
   "mimetype": "text/x-python",
   "name": "python",
   "nbconvert_exporter": "python",
   "pygments_lexer": "ipython3",
   "version": "3.9.12"
  }
 },
 "nbformat": 4,
 "nbformat_minor": 5
}
