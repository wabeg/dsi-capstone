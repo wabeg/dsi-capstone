{
 "cells": [
  {
   "cell_type": "code",
   "execution_count": 1,
   "id": "afb2d619-279e-4d67-b560-254ee45d0fc5",
   "metadata": {},
   "outputs": [],
   "source": [
    "import pandas as pd"
   ]
  },
  {
   "cell_type": "markdown",
   "id": "79d517c0-d20f-4fbe-897d-a9c6d85c9dbd",
   "metadata": {},
   "source": [
    "### Creating Datasets for different round models"
   ]
  },
  {
   "cell_type": "code",
   "execution_count": 2,
   "id": "8c43cba2-ec70-4e70-834e-d350983a52e8",
   "metadata": {},
   "outputs": [],
   "source": [
    "df = pd.read_csv('../data/modeling1.csv', index_col=0)"
   ]
  },
  {
   "cell_type": "markdown",
   "id": "ee760634-e2d1-403e-a88c-90dee8f8591b",
   "metadata": {},
   "source": [
    "#### Pistol Round Datasets"
   ]
  },
  {
   "cell_type": "markdown",
   "id": "ea322920-c8f3-4eab-8937-aea239091e57",
   "metadata": {},
   "source": [
    "I expect that round 1 will be the least accurate model created since no data about individual teams and players is added to the model. As a result I will be creating a seperate model for 1 and 13."
   ]
  },
  {
   "cell_type": "code",
   "execution_count": 3,
   "id": "5036ebcf-7721-4ddd-8131-f8c88fc49520",
   "metadata": {
    "tags": []
   },
   "outputs": [],
   "source": [
    "round_p = df[(df['roundno']==1)|(df['roundno']==13)].dropna(axis=1).reset_index()\n",
    "\n",
    "#dropped the buy columns since both teams make the same buy\n",
    "round_p.drop(['index', 'team1_eco', 'team1_full_buy',\n",
    "       'team1_semi_buy', 'team1_semi_eco', 'team2_eco', 'team2_full_buy',\n",
    "       'team2_semi_buy', 'team2_semi_eco'], axis=1, inplace=True)"
   ]
  },
  {
   "cell_type": "code",
   "execution_count": 4,
   "id": "6f105181-ad5a-43fd-8704-ce6852c36cf3",
   "metadata": {},
   "outputs": [],
   "source": [
    "round_1 = round_p[round_p['roundno']==1].copy()\n",
    "round_1.drop('roundno', axis=1, inplace=True)\n",
    "round_1.to_csv('../data/round_1.csv')"
   ]
  },
  {
   "cell_type": "code",
   "execution_count": 5,
   "id": "064104da-5021-45d3-a490-45c9cc13319b",
   "metadata": {},
   "outputs": [],
   "source": [
    "round_13 = round_p[round_p['roundno']==13].copy()\n",
    "round_13.drop('roundno', axis=1, inplace=True)\n",
    "round_13.to_csv('../data/round_13.csv')"
   ]
  },
  {
   "cell_type": "code",
   "execution_count": 6,
   "id": "8213cb06-1b9f-4a4b-af6c-8b5c17ff0f79",
   "metadata": {},
   "outputs": [],
   "source": [
    "round_p.drop('roundno', axis=1, inplace=True)\n",
    "round_p.to_csv('../data/round_p.csv')"
   ]
  },
  {
   "cell_type": "markdown",
   "id": "5cba8725-b9d1-4f14-bc8d-f79a20e9439c",
   "metadata": {},
   "source": [
    "#### Round 2 Dataset"
   ]
  },
  {
   "cell_type": "markdown",
   "id": "22a1ed4c-eeac-4d2a-9fc2-0cf8d150d37f",
   "metadata": {},
   "source": [
    "Unlike pistol round, I am creating a single model for rounds 2 and 14. I do not expect to beat the baseline since the team that wins pistol almost always wins the next round. I predict that the data I have collected cannot explain when a team loses round 2 after winning pistol round."
   ]
  },
  {
   "cell_type": "code",
   "execution_count": 7,
   "id": "af80f5a9-f8bc-43e0-be34-ec1827537198",
   "metadata": {},
   "outputs": [],
   "source": [
    "round_2 = df[(df['roundno']==2)|(df['roundno']==14)].dropna(axis=1).reset_index()\n",
    "\n",
    "round_2.drop(['index','roundno'], axis=1, inplace=True)\n",
    "\n",
    "round_2.to_csv('../data/round_2.csv')"
   ]
  },
  {
   "cell_type": "code",
   "execution_count": 8,
   "id": "ef05a7f9-8b87-43ca-a34e-0134c69e1a13",
   "metadata": {},
   "outputs": [
    {
     "data": {
      "text/plain": [
       "(32226, 52)"
      ]
     },
     "execution_count": 8,
     "metadata": {},
     "output_type": "execute_result"
    }
   ],
   "source": [
    "round_2.shape"
   ]
  },
  {
   "cell_type": "markdown",
   "id": "6a7df02d-624c-46bb-9900-450ed68b3911",
   "metadata": {},
   "source": [
    "#### Round 3 Dataset"
   ]
  },
  {
   "cell_type": "markdown",
   "id": "cafabc40-6eea-471a-b7b8-f7e97c6f1008",
   "metadata": {},
   "source": [
    "A Model for round 3 is created based on the findings from EDA"
   ]
  },
  {
   "cell_type": "code",
   "execution_count": 9,
   "id": "8e713a4a-28c6-4251-8027-5292abb8b2cb",
   "metadata": {},
   "outputs": [],
   "source": [
    "round_3 = df[(df['roundno']==3)|(df['roundno']==15)].dropna(axis=1).reset_index()\n",
    "\n",
    "round_3.drop(['index','roundno'], axis=1, inplace=True)\n",
    "\n",
    "round_3.to_csv('../data/round_3.csv')"
   ]
  },
  {
   "cell_type": "code",
   "execution_count": 10,
   "id": "fd44090f-d460-46da-97e4-38b152b5866f",
   "metadata": {},
   "outputs": [
    {
     "data": {
      "text/plain": [
       "(31862, 54)"
      ]
     },
     "execution_count": 10,
     "metadata": {},
     "output_type": "execute_result"
    }
   ],
   "source": [
    "round_3.shape"
   ]
  },
  {
   "cell_type": "markdown",
   "id": "2cc3af0c-f6c7-4622-ab23-b6cbc0eee6fb",
   "metadata": {},
   "source": [
    "#### Round 4 Dataset"
   ]
  },
  {
   "cell_type": "markdown",
   "id": "b910d984-d058-408e-b53b-e1bb62f6fe6f",
   "metadata": {},
   "source": [
    "Round 4 takes in the lag data from Rounds 1 and 2 which are usually the same. As a result round 4 was created as its own model."
   ]
  },
  {
   "cell_type": "code",
   "execution_count": 11,
   "id": "313f07bf-27a5-4328-9c95-7b0879ab0fcd",
   "metadata": {},
   "outputs": [],
   "source": [
    "round_4 = df[(df['roundno']==4)|(df['roundno']==16)].dropna(axis=1).reset_index()\n",
    "\n",
    "round_4.drop(['index','roundno'], axis=1, inplace=True)\n",
    "\n",
    "round_4.to_csv('../data/round_4.csv')"
   ]
  },
  {
   "cell_type": "markdown",
   "id": "896bb11e-d931-46d1-8cc9-96c41f156062",
   "metadata": {
    "tags": []
   },
   "source": [
    "#### Overtime Dataset"
   ]
  },
  {
   "cell_type": "markdown",
   "id": "3e35301b-6566-4ec2-b74c-af3e938ea546",
   "metadata": {},
   "source": [
    "Overtime data is unique since both teams start every round with the same amount of money and an even scoreline. It is simmilar to pistol in that regard and as a result it gets its own model."
   ]
  },
  {
   "cell_type": "code",
   "execution_count": 12,
   "id": "ec3d5dbf-7930-4fb1-9380-d09b7d629e1b",
   "metadata": {},
   "outputs": [],
   "source": [
    "round_ot = df[df['roundno'] >= 25].dropna().reset_index()\n",
    "#lags and bankdiff are dropped as they are reset at the begining of overtime. Lag 1 is accounted for in round diff.\n",
    "round_ot.drop(['index','roundno','team1winlag1', 'team1winlag2', 'team1winlag3', 'team1winlag4', 'bankdiff',\n",
    " 'bankdifflag1', 'bankdifflag2', 'bankdifflag3', 'team1_eco',\n",
    "'team1_full_buy', 'team1_semi_buy', 'team1_semi_eco', 'team2_eco',\n",
    "'team2_full_buy', 'team2_semi_buy', 'team2_semi_eco'], axis=1, inplace=True)\n",
    "\n",
    "round_ot.to_csv('../data/round_ot.csv')"
   ]
  },
  {
   "cell_type": "code",
   "execution_count": 13,
   "id": "ebd6e05a-4ea3-4e98-879c-3618205a3b48",
   "metadata": {},
   "outputs": [
    {
     "data": {
      "text/plain": [
       "(6957, 41)"
      ]
     },
     "execution_count": 13,
     "metadata": {},
     "output_type": "execute_result"
    }
   ],
   "source": [
    "round_ot.shape"
   ]
  },
  {
   "cell_type": "markdown",
   "id": "d7b2c30a-8865-4a69-9b7a-a479bd0407fd",
   "metadata": {},
   "source": [
    "#### Mid-Game Rounds Dataset"
   ]
  },
  {
   "cell_type": "code",
   "execution_count": 14,
   "id": "9af57b27-ed85-4490-90b6-6856964fbf55",
   "metadata": {
    "tags": []
   },
   "outputs": [],
   "source": [
    "rounds = df[(df['roundno']!=1)&(df['roundno']!=13)&(df['roundno']!=2)&(df['roundno']!=14)&(df['roundno']!=3)&(df['roundno']!=15)& (df['roundno']!=4)&(df['roundno']!=16)&(df['roundno']< 25)].reset_index().dropna(axis=1)\n",
    "\n",
    "rounds.drop(['index','roundno'],axis=1, inplace=True)\n",
    "\n",
    "rounds.to_csv('../data/rounds.csv')"
   ]
  },
  {
   "cell_type": "code",
   "execution_count": 15,
   "id": "162fd12c-e1dc-41f2-ad37-0ad50df352ee",
   "metadata": {},
   "outputs": [
    {
     "data": {
      "text/plain": [
       "(202434, 57)"
      ]
     },
     "execution_count": 15,
     "metadata": {},
     "output_type": "execute_result"
    }
   ],
   "source": [
    "rounds.shape"
   ]
  },
  {
   "cell_type": "code",
   "execution_count": null,
   "id": "0d0cb1e2-e409-4750-8bb6-05906083d4b1",
   "metadata": {},
   "outputs": [],
   "source": []
  }
 ],
 "metadata": {
  "kernelspec": {
   "display_name": "Python 3 (ipykernel)",
   "language": "python",
   "name": "python3"
  },
  "language_info": {
   "codemirror_mode": {
    "name": "ipython",
    "version": 3
   },
   "file_extension": ".py",
   "mimetype": "text/x-python",
   "name": "python",
   "nbconvert_exporter": "python",
   "pygments_lexer": "ipython3",
   "version": "3.9.12"
  }
 },
 "nbformat": 4,
 "nbformat_minor": 5
}
