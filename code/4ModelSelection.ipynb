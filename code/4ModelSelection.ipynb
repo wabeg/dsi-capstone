{
 "cells": [
  {
   "cell_type": "code",
   "execution_count": 1,
   "id": "87088567-d400-455f-b6a8-4c5c8e70b634",
   "metadata": {},
   "outputs": [],
   "source": [
    "import pandas as pd\n",
    "import numpy as np\n",
    "import pickle\n",
    "#import modeling function and libraries from .py file along\n",
    "from functions import *\n",
    "from sklearn.metrics import confusion_matrix, classification_report\n",
    "from sklearn.decomposition import PCA"
   ]
  },
  {
   "cell_type": "markdown",
   "id": "308553fd-ba14-4f20-be0b-d0915dc18ca2",
   "metadata": {
    "jp-MarkdownHeadingCollapsed": true,
    "tags": []
   },
   "source": [
    "## Pistol Round Model\n",
    "First checking to see if a model can be created for both rounds 1 and 13 together"
   ]
  },
  {
   "cell_type": "code",
   "execution_count": 2,
   "id": "9cce7650-774d-4d6a-a394-a6db23bd2054",
   "metadata": {
    "tags": []
   },
   "outputs": [],
   "source": [
    "round_p = pd.read_csv('../data/round_p.csv', index_col=0)\n",
    "X = round_p.drop(['team1win','map'], axis=1)\n",
    "y = round_p['team1win']"
   ]
  },
  {
   "cell_type": "code",
   "execution_count": 3,
   "id": "2f382bcd-e33d-4a9b-a8f5-e94a8256d7a6",
   "metadata": {},
   "outputs": [
    {
     "name": "stdout",
     "output_type": "stream",
     "text": [
      "baseline: 0.5647113594040968\n",
      "\n",
      "0: Logistic Regression Score: 0.5031602088485848\n",
      "\n",
      "1: XGBoost Score: 0.580241824677109\n",
      "\n",
      "2: Random Forest Score: 0.5489145369607035\n",
      "\n",
      "3: KNN Score: 0.5075570211596593\n",
      "\n",
      "4: Decision Tree Score: 0.544517724649629\n",
      "\n",
      "5: Gradient Boosting Score: 0.5917834569936796\n",
      "\n",
      "6: AdaBoost Score: 0.5482275350370981\n",
      "\n",
      "7: Gaussian Naive Bayes Score: 0.5127782357790602\n",
      "\n",
      "8: Quadratic Discriminant Analysis Score: 0.5145644407804342\n"
     ]
    }
   ],
   "source": [
    "pistol = pipeline(X,y)"
   ]
  },
  {
   "cell_type": "markdown",
   "id": "9f6a0101-d94d-4091-be23-42d2faa11738",
   "metadata": {},
   "source": [
    "Gradient Boosting (.59) and XGBoost (.57) beat the baseline (.56)."
   ]
  },
  {
   "cell_type": "markdown",
   "id": "84e01365-e051-48b5-859d-11104f1f921c",
   "metadata": {},
   "source": [
    "#### Pistol Round Classification Report "
   ]
  },
  {
   "cell_type": "code",
   "execution_count": 4,
   "id": "46ce9a96-720f-4fd8-b84b-0a446674170a",
   "metadata": {},
   "outputs": [
    {
     "name": "stdout",
     "output_type": "stream",
     "text": [
      "XGBoost:\n",
      "              precision    recall  f1-score   support\n",
      "\n",
      "           0       0.64      0.38      0.47      3639\n",
      "           1       0.56      0.79      0.65      3639\n",
      "\n",
      "    accuracy                           0.58      7278\n",
      "   macro avg       0.60      0.58      0.56      7278\n",
      "weighted avg       0.60      0.58      0.56      7278\n",
      "\n",
      "\n",
      "Gradient Boosting\n",
      "              precision    recall  f1-score   support\n",
      "\n",
      "           0       0.73      0.29      0.42      3639\n",
      "           1       0.56      0.89      0.69      3639\n",
      "\n",
      "    accuracy                           0.59      7278\n",
      "   macro avg       0.64      0.59      0.55      7278\n",
      "weighted avg       0.64      0.59      0.55      7278\n",
      "\n"
     ]
    }
   ],
   "source": [
    "print('XGBoost:')\n",
    "print(classification_report(pistol[10], pistol[1].predict(pistol[9])))\n",
    "print()\n",
    "print('Gradient Boosting')\n",
    "print(classification_report(pistol[10], pistol[5].predict(pistol[9])))"
   ]
  },
  {
   "cell_type": "markdown",
   "id": "c24b6af0-f46c-43c9-accc-4c10026b57fa",
   "metadata": {},
   "source": [
    "Both models have low recall for 0. As a result I split the model into two seperate models for rounds 1 and 13."
   ]
  },
  {
   "cell_type": "markdown",
   "id": "9df1d1e4-2ce1-4c5c-932f-11134f252848",
   "metadata": {
    "tags": []
   },
   "source": [
    "## Round 1 Model"
   ]
  },
  {
   "cell_type": "code",
   "execution_count": 5,
   "id": "5b8babf7-e7cf-4c33-9498-ff6eccb50c0a",
   "metadata": {},
   "outputs": [],
   "source": [
    "round_1 = pd.read_csv('../data/round_1.csv', index_col=0)\n",
    "X = round_1.drop(['team1win','map'], axis=1)\n",
    "y = round_1['team1win']"
   ]
  },
  {
   "cell_type": "markdown",
   "id": "04860e84-217c-4dd1-b61e-07c4abe621be",
   "metadata": {},
   "source": [
    "#### Model Scores"
   ]
  },
  {
   "cell_type": "code",
   "execution_count": 6,
   "id": "eacff1df-0527-4229-a5a0-dbbd9ace481d",
   "metadata": {},
   "outputs": [
    {
     "name": "stdout",
     "output_type": "stream",
     "text": [
      "baseline: 0.5592799503414029\n",
      "\n",
      "0: Logistic Regression Score: 0.49528301886792453\n",
      "\n",
      "1: XGBoost Score: 0.5552164261931187\n",
      "\n",
      "2: Random Forest Score: 0.5529966703662597\n",
      "\n",
      "3: KNN Score: 0.5163706992230854\n",
      "\n",
      "4: Decision Tree Score: 0.5518867924528302\n",
      "\n",
      "5: Gradient Boosting Score: 0.5665926748057714\n",
      "\n",
      "6: AdaBoost Score: 0.5288568257491676\n",
      "\n",
      "7: Gaussian Naive Bayes Score: 0.5099889012208657\n",
      "\n",
      "8: Quadratic Discriminant Analysis Score: 0.5061043285238623\n"
     ]
    },
    {
     "name": "stderr",
     "output_type": "stream",
     "text": [
      "C:\\Users\\gawie\\anaconda3\\lib\\site-packages\\sklearn\\discriminant_analysis.py:887: UserWarning: Variables are collinear\n",
      "  warnings.warn(\"Variables are collinear\")\n"
     ]
    }
   ],
   "source": [
    "round_1 = pipeline(X,y)"
   ]
  },
  {
   "cell_type": "markdown",
   "id": "64d9f03d-bdb6-4b3b-a210-10142b4bf44e",
   "metadata": {},
   "source": [
    "Only Gradient Boosting (.563) beat the baseline (.559). Other models which performed slightly worse than the baseline will also be investigated."
   ]
  },
  {
   "cell_type": "markdown",
   "id": "c79c599c-282e-4b24-99a0-bb65e43b07b6",
   "metadata": {},
   "source": [
    "#### Classification Report"
   ]
  },
  {
   "cell_type": "code",
   "execution_count": 7,
   "id": "1e0aebb0-da55-41ac-b0a0-40d2b187dcdf",
   "metadata": {},
   "outputs": [
    {
     "name": "stdout",
     "output_type": "stream",
     "text": [
      "XGBoost:\n",
      "              precision    recall  f1-score   support\n",
      "\n",
      "           0       0.56      0.48      0.52      1802\n",
      "           1       0.55      0.63      0.59      1802\n",
      "\n",
      "    accuracy                           0.56      3604\n",
      "   macro avg       0.56      0.56      0.55      3604\n",
      "weighted avg       0.56      0.56      0.55      3604\n",
      "\n",
      "\n",
      "Random Forest:\n",
      "              precision    recall  f1-score   support\n",
      "\n",
      "           0       0.56      0.53      0.54      1802\n",
      "           1       0.55      0.57      0.56      1802\n",
      "\n",
      "    accuracy                           0.55      3604\n",
      "   macro avg       0.55      0.55      0.55      3604\n",
      "weighted avg       0.55      0.55      0.55      3604\n",
      "\n",
      "\n",
      "Gradient Boosting\n",
      "              precision    recall  f1-score   support\n",
      "\n",
      "           0       0.59      0.45      0.51      1802\n",
      "           1       0.55      0.69      0.61      1802\n",
      "\n",
      "    accuracy                           0.57      3604\n",
      "   macro avg       0.57      0.57      0.56      3604\n",
      "weighted avg       0.57      0.57      0.56      3604\n",
      "\n"
     ]
    }
   ],
   "source": [
    "print('XGBoost:')\n",
    "print(classification_report(round_1[10], round_1[1].predict(round_1[9])))\n",
    "print()\n",
    "print('Random Forest:')\n",
    "print(classification_report(round_1[10], round_1[2].predict(round_1[9])))\n",
    "print()\n",
    "print('Gradient Boosting')\n",
    "print(classification_report(round_1[10], round_1[5].predict(round_1[9])))"
   ]
  },
  {
   "cell_type": "markdown",
   "id": "15cc8cc5-e6e8-40fb-ac57-01b425a5033d",
   "metadata": {},
   "source": [
    "XGBoost has more balanced precision and recall for 0 and 1 which is better for the purpose of the models. "
   ]
  },
  {
   "cell_type": "markdown",
   "id": "abb84db8-103a-45c3-8557-d783bf516145",
   "metadata": {},
   "source": [
    "### PCA for Round 1"
   ]
  },
  {
   "cell_type": "code",
   "execution_count": 8,
   "id": "e38c8010-1eeb-4272-87bc-fb507329594d",
   "metadata": {},
   "outputs": [
    {
     "data": {
      "text/plain": [
       "array([0.99994494, 0.99994925, 0.99995302, 0.99995596, 0.99995883,\n",
       "       0.99996164, 0.99996416, 0.9999666 , 0.99996878, 0.99997091,\n",
       "       0.99997292, 0.99997477, 0.99997654, 0.99997817, 0.99997979,\n",
       "       0.99998133, 0.99998284, 0.9999843 , 0.99998572, 0.99998707,\n",
       "       0.99998833, 0.99998954, 0.99999072, 0.99999185, 0.99999291,\n",
       "       0.99999395, 0.99999485, 0.99999565, 0.99999641, 0.99999712,\n",
       "       0.99999776, 0.99999827, 0.99999874, 0.99999912, 0.99999945,\n",
       "       0.99999967, 0.99999984, 0.99999997, 1.        , 1.        ])"
      ]
     },
     "execution_count": 8,
     "metadata": {},
     "output_type": "execute_result"
    }
   ],
   "source": [
    "pca = PCA()\n",
    "pca.fit(X)\n",
    "\n",
    "np.cumsum(pca.explained_variance_ratio_)"
   ]
  },
  {
   "cell_type": "code",
   "execution_count": 9,
   "id": "51b8b04b-6c01-408f-aa58-4ef78eba4e45",
   "metadata": {},
   "outputs": [
    {
     "data": {
      "text/plain": [
       "40"
      ]
     },
     "execution_count": 9,
     "metadata": {},
     "output_type": "execute_result"
    }
   ],
   "source": [
    "len(pca.explained_variance_ratio_)"
   ]
  },
  {
   "cell_type": "markdown",
   "id": "6ef3ef1e-f3ad-4426-9739-5a43c6e922e9",
   "metadata": {},
   "source": [
    "#### Model Scores"
   ]
  },
  {
   "cell_type": "code",
   "execution_count": 10,
   "id": "05f1e395-1322-4220-9880-606d6d96dc15",
   "metadata": {},
   "outputs": [
    {
     "name": "stdout",
     "output_type": "stream",
     "text": [
      "baseline: 0.5592799503414029\n",
      "\n",
      "0: Logistic Regression Score: 0.5008324084350722\n",
      "\n",
      "1: XGBoost Score: 0.5563263041065483\n",
      "\n",
      "2: Random Forest Score: 0.5335738068812431\n",
      "\n",
      "3: KNN Score: 0.5258046614872364\n",
      "\n",
      "4: Decision Tree Score: 0.5169256381798002\n",
      "\n",
      "5: Gradient Boosting Score: 0.5341287458379578\n",
      "\n",
      "6: AdaBoost Score: 0.5246947835738068\n",
      "\n",
      "7: Gaussian Naive Bayes Score: 0.5047169811320755\n",
      "\n",
      "8: Quadratic Discriminant Analysis Score: 0.5088790233074362\n"
     ]
    }
   ],
   "source": [
    "pca_1 = PCA(n_components=39, random_state=42)\n",
    "X_pca = pca_1.fit_transform(X)\n",
    "\n",
    "round_1_pca = pipeline(X_pca,y)"
   ]
  },
  {
   "cell_type": "markdown",
   "id": "8ba2e987-e113-4d5b-89d0-5d77aace87fb",
   "metadata": {},
   "source": [
    "XGBoost after PCA (.56) gives a better accuracy than the normal XGBoost Model. To confirm the classification report is looked at"
   ]
  },
  {
   "cell_type": "code",
   "execution_count": 11,
   "id": "37c65873-98da-4371-ad4a-4320fa01e96b",
   "metadata": {},
   "outputs": [
    {
     "name": "stdout",
     "output_type": "stream",
     "text": [
      "XGBoost PCA:\n",
      "              precision    recall  f1-score   support\n",
      "\n",
      "           0       0.56      0.57      0.56      1802\n",
      "           1       0.56      0.55      0.55      1802\n",
      "\n",
      "    accuracy                           0.56      3604\n",
      "   macro avg       0.56      0.56      0.56      3604\n",
      "weighted avg       0.56      0.56      0.56      3604\n",
      "\n"
     ]
    }
   ],
   "source": [
    "print('XGBoost PCA:')\n",
    "print(classification_report(round_1[10], round_1_pca[1].predict(round_1_pca[9])))"
   ]
  },
  {
   "cell_type": "markdown",
   "id": "91311f59-122d-4d2e-a43f-f55e5b5df178",
   "metadata": {},
   "source": [
    "The classification report confirms that XGBoost after PCA gives us a slightly better model. For the purpose of this project, the non PCA XGBoost model (.55) is chosen since we can extract feature importance."
   ]
  },
  {
   "cell_type": "markdown",
   "id": "edd427b6-6cba-4846-b62e-6ad71ad60c7a",
   "metadata": {},
   "source": [
    "### Feature Importance"
   ]
  },
  {
   "cell_type": "code",
   "execution_count": 12,
   "id": "be3ab7e9-a4a7-4d5c-8e0d-cf29ba49588a",
   "metadata": {},
   "outputs": [
    {
     "data": {
      "text/html": [
       "<div>\n",
       "<style scoped>\n",
       "    .dataframe tbody tr th:only-of-type {\n",
       "        vertical-align: middle;\n",
       "    }\n",
       "\n",
       "    .dataframe tbody tr th {\n",
       "        vertical-align: top;\n",
       "    }\n",
       "\n",
       "    .dataframe thead th {\n",
       "        text-align: right;\n",
       "    }\n",
       "</style>\n",
       "<table border=\"1\" class=\"dataframe\">\n",
       "  <thead>\n",
       "    <tr style=\"text-align: right;\">\n",
       "      <th></th>\n",
       "      <th>Feature Importance</th>\n",
       "    </tr>\n",
       "  </thead>\n",
       "  <tbody>\n",
       "    <tr>\n",
       "      <th>bankdiff</th>\n",
       "      <td>0.045099</td>\n",
       "    </tr>\n",
       "    <tr>\n",
       "      <th>team1_only_sage</th>\n",
       "      <td>0.040930</td>\n",
       "    </tr>\n",
       "    <tr>\n",
       "      <th>team2_only_jett</th>\n",
       "      <td>0.038806</td>\n",
       "    </tr>\n",
       "    <tr>\n",
       "      <th>team1_only_raze</th>\n",
       "      <td>0.035330</td>\n",
       "    </tr>\n",
       "    <tr>\n",
       "      <th>team2_only_kayo</th>\n",
       "      <td>0.034369</td>\n",
       "    </tr>\n",
       "  </tbody>\n",
       "</table>\n",
       "</div>"
      ],
      "text/plain": [
       "                 Feature Importance\n",
       "bankdiff                   0.045099\n",
       "team1_only_sage            0.040930\n",
       "team2_only_jett            0.038806\n",
       "team1_only_raze            0.035330\n",
       "team2_only_kayo            0.034369"
      ]
     },
     "execution_count": 12,
     "metadata": {},
     "output_type": "execute_result"
    }
   ],
   "source": [
    "round_1_feature = pd.DataFrame(index=X.columns, data = round_1[1].feature_importances_).sort_values(by=0, ascending=False)\n",
    "\n",
    "round_1_feature.columns = ['Feature Importance']\n",
    "\n",
    "round_1_feature.head()"
   ]
  },
  {
   "cell_type": "markdown",
   "id": "1cb81cd8-39d9-4f25-8dc2-dbc647656f3e",
   "metadata": {},
   "source": [
    "## Round 13 Model"
   ]
  },
  {
   "cell_type": "code",
   "execution_count": 13,
   "id": "dce16514-a047-4cf8-b2f8-07e2fceba681",
   "metadata": {},
   "outputs": [],
   "source": [
    "round_13 = pd.read_csv('../data/round_13.csv', index_col=0)\n",
    "\n",
    "X = round_13.drop(['team1win','map'], axis=1)\n",
    "y = round_13['team1win']"
   ]
  },
  {
   "cell_type": "code",
   "execution_count": 14,
   "id": "bd65b255-fd9b-41b1-a1ec-123b0c27c717",
   "metadata": {},
   "outputs": [
    {
     "name": "stdout",
     "output_type": "stream",
     "text": [
      "baseline: 0.5704531346989448\n",
      "\n",
      "0: Logistic Regression Score: 0.516050054406964\n",
      "\n",
      "1: XGBoost Score: 0.5924918389553863\n",
      "\n",
      "2: Random Forest Score: 0.5753536452665942\n",
      "\n",
      "3: KNN Score: 0.5111534276387377\n",
      "\n",
      "4: Decision Tree Score: 0.5636561479869423\n",
      "\n",
      "5: Gradient Boosting Score: 0.6009249183895539\n",
      "\n",
      "6: AdaBoost Score: 0.5620239390642002\n",
      "\n",
      "7: Gaussian Naive Bayes Score: 0.5182263329706203\n",
      "\n",
      "8: Quadratic Discriminant Analysis Score: 0.5263873775843307\n"
     ]
    }
   ],
   "source": [
    "round_13 = pipeline(X,y)"
   ]
  },
  {
   "cell_type": "markdown",
   "id": "94bfc711-6241-49d8-8a09-f0689edb0df1",
   "metadata": {},
   "source": [
    "#### Classification Report"
   ]
  },
  {
   "cell_type": "code",
   "execution_count": 15,
   "id": "01882ba3-c2d4-4906-b319-2bc5cc7942e7",
   "metadata": {},
   "outputs": [
    {
     "name": "stdout",
     "output_type": "stream",
     "text": [
      "XGBoost:\n",
      "              precision    recall  f1-score   support\n",
      "\n",
      "           0       0.64      0.42      0.51      1838\n",
      "           1       0.57      0.76      0.65      1838\n",
      "\n",
      "    accuracy                           0.59      3676\n",
      "   macro avg       0.60      0.59      0.58      3676\n",
      "weighted avg       0.60      0.59      0.58      3676\n",
      "\n",
      "\n",
      "Random Forests:\n",
      "              precision    recall  f1-score   support\n",
      "\n",
      "           0       0.59      0.50      0.54      1838\n",
      "           1       0.57      0.65      0.60      1838\n",
      "\n",
      "    accuracy                           0.58      3676\n",
      "   macro avg       0.58      0.58      0.57      3676\n",
      "weighted avg       0.58      0.58      0.57      3676\n",
      "\n",
      "\n",
      "Gradient Boosting\n",
      "              precision    recall  f1-score   support\n",
      "\n",
      "           0       0.70      0.36      0.47      1838\n",
      "           1       0.57      0.85      0.68      1838\n",
      "\n",
      "    accuracy                           0.60      3676\n",
      "   macro avg       0.63      0.60      0.58      3676\n",
      "weighted avg       0.63      0.60      0.58      3676\n",
      "\n"
     ]
    }
   ],
   "source": [
    "print('XGBoost:')\n",
    "print(classification_report(round_13[10], round_13[1].predict(round_13[9])))\n",
    "print()\n",
    "print('Random Forests:')\n",
    "print(classification_report(round_13[10], round_13[2].predict(round_13[9])))\n",
    "print()\n",
    "print('Gradient Boosting')\n",
    "print(classification_report(round_13[10], round_13[5].predict(round_13[9])))"
   ]
  },
  {
   "cell_type": "markdown",
   "id": "2369df7f-fe9f-42cc-b404-93a629289de9",
   "metadata": {},
   "source": [
    "XGBoost (.59), Gradient Boosting (.60) and Random Forest (.58) all have higher accuracies than the Baseline (.57).  While XGBoost and Gradient Boost have  higher accuracies than Random Forests, Random Forests is more balanced more false positives so it is chosen as a result."
   ]
  },
  {
   "cell_type": "markdown",
   "id": "5db79a33-2f6b-4408-ab18-226c164a2355",
   "metadata": {},
   "source": [
    "### PCA"
   ]
  },
  {
   "cell_type": "code",
   "execution_count": 16,
   "id": "303c2246-a832-4258-b46d-6a500d7baecf",
   "metadata": {},
   "outputs": [
    {
     "data": {
      "text/plain": [
       "array([0.99946132, 0.9999342 , 0.99993934, 0.99994384, 0.99994737,\n",
       "       0.99995079, 0.99995415, 0.99995716, 0.99996008, 0.99996269,\n",
       "       0.99996523, 0.99996763, 0.99996983, 0.99997195, 0.9999739 ,\n",
       "       0.99997584, 0.99997768, 0.99997948, 0.99998122, 0.99998293,\n",
       "       0.99998453, 0.99998604, 0.99998749, 0.9999889 , 0.99999025,\n",
       "       0.99999152, 0.99999276, 0.99999383, 0.9999948 , 0.99999571,\n",
       "       0.99999655, 0.99999731, 0.99999793, 0.99999849, 0.99999894,\n",
       "       0.99999934, 0.9999996 , 0.99999981, 0.99999996, 1.        ])"
      ]
     },
     "execution_count": 16,
     "metadata": {},
     "output_type": "execute_result"
    }
   ],
   "source": [
    "pca = PCA()\n",
    "pca.fit(X)\n",
    "\n",
    "np.cumsum(pca.explained_variance_ratio_)"
   ]
  },
  {
   "cell_type": "code",
   "execution_count": 17,
   "id": "64a8f105-12ab-4b0d-a73d-7697581ae68e",
   "metadata": {},
   "outputs": [
    {
     "data": {
      "text/plain": [
       "40"
      ]
     },
     "execution_count": 17,
     "metadata": {},
     "output_type": "execute_result"
    }
   ],
   "source": [
    "len(pca.explained_variance_ratio_)"
   ]
  },
  {
   "cell_type": "markdown",
   "id": "36ae252e-ff6e-4881-8462-033f888e9690",
   "metadata": {},
   "source": [
    "#### PCA Model Scores"
   ]
  },
  {
   "cell_type": "code",
   "execution_count": 18,
   "id": "c1a3c2cc-869d-41dd-95bc-b048a8c29586",
   "metadata": {},
   "outputs": [
    {
     "name": "stdout",
     "output_type": "stream",
     "text": [
      "baseline: 0.5704531346989448\n",
      "\n",
      "0: Logistic Regression Score: 0.51550598476605\n",
      "\n",
      "1: XGBoost Score: 0.5824265505984766\n",
      "\n",
      "2: Random Forest Score: 0.5424374319912949\n",
      "\n",
      "3: KNN Score: 0.5193144722524483\n",
      "\n",
      "4: Decision Tree Score: 0.5410772578890098\n",
      "\n",
      "5: Gradient Boosting Score: 0.5854189336235038\n",
      "\n",
      "6: AdaBoost Score: 0.5359085963003264\n",
      "\n",
      "7: Gaussian Naive Bayes Score: 0.5187704026115343\n",
      "\n",
      "8: Quadratic Discriminant Analysis Score: 0.5266594124047879\n"
     ]
    }
   ],
   "source": [
    "pca_13 = PCA(n_components=40, random_state=42)\n",
    "X_pca = pca_13.fit_transform(X)\n",
    "\n",
    "round_13_pca = pipeline(X_pca,y)"
   ]
  },
  {
   "cell_type": "markdown",
   "id": "f434689b-7ace-4742-b359-70a8437069c5",
   "metadata": {},
   "source": [
    "None of the PCA models perform better than the previous models, as a result the initial Random Forests used."
   ]
  },
  {
   "cell_type": "markdown",
   "id": "44af4e4b-9158-4274-8917-0bfa3960109e",
   "metadata": {},
   "source": [
    "### Feature Importance"
   ]
  },
  {
   "cell_type": "code",
   "execution_count": 19,
   "id": "179e8606-51a3-4e82-b0c2-d63ceb8ca5fa",
   "metadata": {},
   "outputs": [
    {
     "data": {
      "text/html": [
       "<div>\n",
       "<style scoped>\n",
       "    .dataframe tbody tr th:only-of-type {\n",
       "        vertical-align: middle;\n",
       "    }\n",
       "\n",
       "    .dataframe tbody tr th {\n",
       "        vertical-align: top;\n",
       "    }\n",
       "\n",
       "    .dataframe thead th {\n",
       "        text-align: right;\n",
       "    }\n",
       "</style>\n",
       "<table border=\"1\" class=\"dataframe\">\n",
       "  <thead>\n",
       "    <tr style=\"text-align: right;\">\n",
       "      <th></th>\n",
       "      <th>Feature Importance</th>\n",
       "    </tr>\n",
       "  </thead>\n",
       "  <tbody>\n",
       "    <tr>\n",
       "      <th>rounddiff</th>\n",
       "      <td>0.227999</td>\n",
       "    </tr>\n",
       "    <tr>\n",
       "      <th>bankdiff</th>\n",
       "      <td>0.187156</td>\n",
       "    </tr>\n",
       "    <tr>\n",
       "      <th>team1_only_sage</th>\n",
       "      <td>0.022297</td>\n",
       "    </tr>\n",
       "    <tr>\n",
       "      <th>team2_only_jett</th>\n",
       "      <td>0.021708</td>\n",
       "    </tr>\n",
       "    <tr>\n",
       "      <th>team1_only_jett</th>\n",
       "      <td>0.021685</td>\n",
       "    </tr>\n",
       "    <tr>\n",
       "      <th>team2_only_raze</th>\n",
       "      <td>0.020985</td>\n",
       "    </tr>\n",
       "    <tr>\n",
       "      <th>team1_only_killjoy</th>\n",
       "      <td>0.020707</td>\n",
       "    </tr>\n",
       "    <tr>\n",
       "      <th>team2_only_skye</th>\n",
       "      <td>0.020541</td>\n",
       "    </tr>\n",
       "    <tr>\n",
       "      <th>team2_only_cypher</th>\n",
       "      <td>0.020215</td>\n",
       "    </tr>\n",
       "    <tr>\n",
       "      <th>team2_only_killjoy</th>\n",
       "      <td>0.019908</td>\n",
       "    </tr>\n",
       "  </tbody>\n",
       "</table>\n",
       "</div>"
      ],
      "text/plain": [
       "                    Feature Importance\n",
       "rounddiff                     0.227999\n",
       "bankdiff                      0.187156\n",
       "team1_only_sage               0.022297\n",
       "team2_only_jett               0.021708\n",
       "team1_only_jett               0.021685\n",
       "team2_only_raze               0.020985\n",
       "team1_only_killjoy            0.020707\n",
       "team2_only_skye               0.020541\n",
       "team2_only_cypher             0.020215\n",
       "team2_only_killjoy            0.019908"
      ]
     },
     "execution_count": 19,
     "metadata": {},
     "output_type": "execute_result"
    }
   ],
   "source": [
    "round_13_feature = pd.DataFrame(index=X.columns, data = round_13[2].feature_importances_).sort_values(by=0, ascending=False)\n",
    "\n",
    "round_13_feature.columns = ['Feature Importance']\n",
    "\n",
    "round_13_feature.head(10)"
   ]
  },
  {
   "cell_type": "markdown",
   "id": "490b652a-7bc1-4075-ab64-80086c806118",
   "metadata": {},
   "source": [
    "## Round 2 Model"
   ]
  },
  {
   "cell_type": "code",
   "execution_count": 20,
   "id": "36b03795-a15c-4a48-ab68-b97dad25d234",
   "metadata": {},
   "outputs": [],
   "source": [
    "round_2 = pd.read_csv('../data/round_2.csv', index_col=0)\n",
    "\n",
    "X = round_2.drop(['team1win','map'], axis=1)\n",
    "y = round_2['team1win']"
   ]
  },
  {
   "cell_type": "code",
   "execution_count": 21,
   "id": "dd969d23-4199-405c-a904-1ecba4ea500b",
   "metadata": {},
   "outputs": [
    {
     "name": "stdout",
     "output_type": "stream",
     "text": [
      "baseline: 0.5712069500465405\n",
      "\n",
      "0: Logistic Regression Score: 0.8719445953286258\n",
      "\n",
      "1: XGBoost Score: 0.8837588267246062\n",
      "\n",
      "2: Random Forest Score: 0.8704508419337317\n",
      "\n",
      "3: KNN Score: 0.846279196089082\n",
      "\n",
      "4: Decision Tree Score: 0.8032319391634981\n",
      "\n",
      "5: Gradient Boosting Score: 0.8814502987506789\n",
      "\n",
      "6: AdaBoost Score: 0.8773764258555133\n",
      "\n",
      "7: Gaussian Naive Bayes Score: 0.850624660510592\n",
      "\n",
      "8: Quadratic Discriminant Analysis Score: 0.5118142313959805\n"
     ]
    },
    {
     "name": "stderr",
     "output_type": "stream",
     "text": [
      "C:\\Users\\gawie\\anaconda3\\lib\\site-packages\\sklearn\\discriminant_analysis.py:887: UserWarning: Variables are collinear\n",
      "  warnings.warn(\"Variables are collinear\")\n"
     ]
    }
   ],
   "source": [
    "round_2 = pipeline(X,y)"
   ]
  },
  {
   "cell_type": "markdown",
   "id": "6870391f-bac6-47be-9ba5-f22c211d7071",
   "metadata": {},
   "source": [
    "#### Clasification Report"
   ]
  },
  {
   "cell_type": "code",
   "execution_count": 22,
   "id": "970882d1-4686-4d1a-b25d-3162aea51089",
   "metadata": {},
   "outputs": [
    {
     "name": "stdout",
     "output_type": "stream",
     "text": [
      "Baseline:\n",
      "              precision    recall  f1-score   support\n",
      "\n",
      "           0       0.85      0.86      0.86     13818\n",
      "           1       0.90      0.89      0.89     18408\n",
      "\n",
      "    accuracy                           0.88     32226\n",
      "   macro avg       0.87      0.87      0.87     32226\n",
      "weighted avg       0.88      0.88      0.88     32226\n",
      "\n",
      "XGBoost:\n",
      "              precision    recall  f1-score   support\n",
      "\n",
      "           0       0.89      0.88      0.88      3682\n",
      "           1       0.88      0.89      0.88      3682\n",
      "\n",
      "    accuracy                           0.88      7364\n",
      "   macro avg       0.88      0.88      0.88      7364\n",
      "weighted avg       0.88      0.88      0.88      7364\n",
      "\n",
      "\n",
      "Gradient Boosting\n",
      "              precision    recall  f1-score   support\n",
      "\n",
      "           0       0.88      0.88      0.88      3682\n",
      "           1       0.88      0.88      0.88      3682\n",
      "\n",
      "    accuracy                           0.88      7364\n",
      "   macro avg       0.88      0.88      0.88      7364\n",
      "weighted avg       0.88      0.88      0.88      7364\n",
      "\n"
     ]
    }
   ],
   "source": [
    "print('Baseline:')\n",
    "print(classification_report(y,X['team1winlag1']))\n",
    "print('XGBoost:')\n",
    "print(classification_report(round_2[10], round_2[1].predict(round_2[9])))\n",
    "print()\n",
    "print('Gradient Boosting')\n",
    "print(classification_report(round_2[10], round_2[5].predict(round_2[9])))"
   ]
  },
  {
   "cell_type": "markdown",
   "id": "6a90150a-0f81-4baa-99b9-c18461b40498",
   "metadata": {},
   "source": [
    "XGBoost (.88) and Gradient Boosting (.88) both perform the same as Win Lag 1 baseline (.88). Gradient Boosting has slightly worse recall for 1 when compared to XGBoost. While the accuracy of XGBoost is the same as Baseline, it is slightly more balanced for precision and recall for 0 and 1. As a result XGBoost is chosen."
   ]
  },
  {
   "cell_type": "markdown",
   "id": "d0d0c054-a159-48ad-94bc-1545e7673462",
   "metadata": {},
   "source": [
    "The models all performed similarly, with the XGBoost model performing slightly better than the other two. The XGBoost model should be used because it is faster to train and has a higher accuracy."
   ]
  },
  {
   "cell_type": "markdown",
   "id": "1d1a07ec-3dd3-464d-9800-00b4b33342fc",
   "metadata": {},
   "source": [
    "XGBoost should be used as the preferred model as it outperforms the baseline model and the other two models tested. It has a higher precision, recall, and f1-score"
   ]
  },
  {
   "cell_type": "markdown",
   "id": "927b11f0-51fb-449d-bc7a-b74652f2adee",
   "metadata": {},
   "source": [
    "### PCA for round 2"
   ]
  },
  {
   "cell_type": "code",
   "execution_count": 23,
   "id": "32cc0a50-86f8-454b-b610-e6e5624e58c4",
   "metadata": {},
   "outputs": [
    {
     "data": {
      "text/plain": [
       "array([0.99855538, 0.99999954, 0.9999999 , 0.99999991, 0.99999992,\n",
       "       0.99999992, 0.99999993, 0.99999993, 0.99999993, 0.99999994,\n",
       "       0.99999994, 0.99999995, 0.99999995, 0.99999995, 0.99999996,\n",
       "       0.99999996, 0.99999996, 0.99999996, 0.99999997, 0.99999997,\n",
       "       0.99999997, 0.99999997, 0.99999998, 0.99999998, 0.99999998,\n",
       "       0.99999998, 0.99999998, 0.99999998, 0.99999999, 0.99999999,\n",
       "       0.99999999, 0.99999999, 0.99999999, 0.99999999, 0.99999999,\n",
       "       1.        , 1.        , 1.        , 1.        , 1.        ,\n",
       "       1.        , 1.        , 1.        , 1.        , 1.        ,\n",
       "       1.        , 1.        , 1.        , 1.        , 1.        ])"
      ]
     },
     "execution_count": 23,
     "metadata": {},
     "output_type": "execute_result"
    }
   ],
   "source": [
    "pca = PCA()\n",
    "pca.fit(X)\n",
    "\n",
    "np.cumsum(pca.explained_variance_ratio_)"
   ]
  },
  {
   "cell_type": "code",
   "execution_count": 24,
   "id": "c02c957f-92cc-4274-8edd-104e868a4e22",
   "metadata": {},
   "outputs": [
    {
     "data": {
      "text/plain": [
       "50"
      ]
     },
     "execution_count": 24,
     "metadata": {},
     "output_type": "execute_result"
    }
   ],
   "source": [
    "len(pca.explained_variance_ratio_)"
   ]
  },
  {
   "cell_type": "code",
   "execution_count": 25,
   "id": "26a16cbb-2d44-4028-810d-67002db7a730",
   "metadata": {},
   "outputs": [
    {
     "name": "stdout",
     "output_type": "stream",
     "text": [
      "baseline: 0.5712069500465405\n",
      "\n",
      "0: Logistic Regression Score: 0.8738457360130364\n",
      "\n",
      "1: XGBoost Score: 0.8699076588810429\n",
      "\n",
      "2: Random Forest Score: 0.8625746876697447\n",
      "\n",
      "3: KNN Score: 0.7730852797392721\n",
      "\n",
      "4: Decision Tree Score: 0.7903313416621401\n",
      "\n",
      "5: Gradient Boosting Score: 0.8734383487235198\n",
      "\n",
      "6: AdaBoost Score: 0.8703150461705594\n",
      "\n",
      "7: Gaussian Naive Bayes Score: 0.8675991309071157\n",
      "\n",
      "8: Quadratic Discriminant Analysis Score: 0.8716730038022814\n"
     ]
    }
   ],
   "source": [
    "pca_2 = PCA(n_components=36, random_state=42)\n",
    "X_pca = pca_2.fit_transform(X)\n",
    "\n",
    "round_1_pca = pipeline(X_pca,y)"
   ]
  },
  {
   "cell_type": "markdown",
   "id": "9f3e010b-a06d-4b1a-af74-9db82a66088b",
   "metadata": {},
   "source": [
    "All the PCA models perform worse than the initial XGBoost model."
   ]
  },
  {
   "cell_type": "markdown",
   "id": "d1523e13-61f9-415b-9cb9-4691d455655e",
   "metadata": {},
   "source": [
    "### Feature Importance"
   ]
  },
  {
   "cell_type": "code",
   "execution_count": 26,
   "id": "14ad00b5-2c62-4e27-934e-564d8ab4dae5",
   "metadata": {},
   "outputs": [
    {
     "data": {
      "text/html": [
       "<div>\n",
       "<style scoped>\n",
       "    .dataframe tbody tr th:only-of-type {\n",
       "        vertical-align: middle;\n",
       "    }\n",
       "\n",
       "    .dataframe tbody tr th {\n",
       "        vertical-align: top;\n",
       "    }\n",
       "\n",
       "    .dataframe thead th {\n",
       "        text-align: right;\n",
       "    }\n",
       "</style>\n",
       "<table border=\"1\" class=\"dataframe\">\n",
       "  <thead>\n",
       "    <tr style=\"text-align: right;\">\n",
       "      <th></th>\n",
       "      <th>Feature Importance</th>\n",
       "    </tr>\n",
       "  </thead>\n",
       "  <tbody>\n",
       "    <tr>\n",
       "      <th>team1winlag1</th>\n",
       "      <td>0.764004</td>\n",
       "    </tr>\n",
       "    <tr>\n",
       "      <th>team2_eco</th>\n",
       "      <td>0.071886</td>\n",
       "    </tr>\n",
       "    <tr>\n",
       "      <th>team1_eco</th>\n",
       "      <td>0.024643</td>\n",
       "    </tr>\n",
       "    <tr>\n",
       "      <th>team1_semi_buy</th>\n",
       "      <td>0.021836</td>\n",
       "    </tr>\n",
       "    <tr>\n",
       "      <th>team2_semi_buy</th>\n",
       "      <td>0.006184</td>\n",
       "    </tr>\n",
       "    <tr>\n",
       "      <th>bankdifflag1</th>\n",
       "      <td>0.004231</td>\n",
       "    </tr>\n",
       "    <tr>\n",
       "      <th>team1_only_skye</th>\n",
       "      <td>0.003688</td>\n",
       "    </tr>\n",
       "    <tr>\n",
       "      <th>bankdiff</th>\n",
       "      <td>0.003596</td>\n",
       "    </tr>\n",
       "    <tr>\n",
       "      <th>team1_only_sage</th>\n",
       "      <td>0.003484</td>\n",
       "    </tr>\n",
       "    <tr>\n",
       "      <th>team1_only_raze</th>\n",
       "      <td>0.003365</td>\n",
       "    </tr>\n",
       "  </tbody>\n",
       "</table>\n",
       "</div>"
      ],
      "text/plain": [
       "                 Feature Importance\n",
       "team1winlag1               0.764004\n",
       "team2_eco                  0.071886\n",
       "team1_eco                  0.024643\n",
       "team1_semi_buy             0.021836\n",
       "team2_semi_buy             0.006184\n",
       "bankdifflag1               0.004231\n",
       "team1_only_skye            0.003688\n",
       "bankdiff                   0.003596\n",
       "team1_only_sage            0.003484\n",
       "team1_only_raze            0.003365"
      ]
     },
     "execution_count": 26,
     "metadata": {},
     "output_type": "execute_result"
    }
   ],
   "source": [
    "round_2_feature = pd.DataFrame(index=X.columns, data = round_2[1].feature_importances_).sort_values(by=0, ascending=False)\n",
    "round_2_feature.columns = ['Feature Importance']\n",
    "round_2_feature.head(10)"
   ]
  },
  {
   "cell_type": "markdown",
   "id": "f5e1466b-941b-4a42-9bdf-f759cc8f3660",
   "metadata": {
    "tags": []
   },
   "source": [
    "## Round 3 Model"
   ]
  },
  {
   "cell_type": "code",
   "execution_count": 27,
   "id": "4c876b93-9b0d-4e85-a7af-64d3adcfc0e4",
   "metadata": {},
   "outputs": [],
   "source": [
    "round_3 = pd.read_csv('../data/round_3.csv', index_col=0)\n",
    "\n",
    "X = round_3.drop(['team1win','map'], axis=1)\n",
    "y = round_3['team1win']"
   ]
  },
  {
   "cell_type": "markdown",
   "id": "5df48d74-1c8b-4a42-935f-1b5270db08c6",
   "metadata": {},
   "source": [
    "#### Baseline for Round Lag 1"
   ]
  },
  {
   "cell_type": "code",
   "execution_count": 28,
   "id": "23f578cc-ba77-4f7f-a2ae-182a21ea78ca",
   "metadata": {},
   "outputs": [
    {
     "data": {
      "text/plain": [
       "0.5396176373079898"
      ]
     },
     "execution_count": 28,
     "metadata": {},
     "output_type": "execute_result"
    }
   ],
   "source": [
    "round_3[['team1win','team1winlag1']].dropna().groupby(by=round_3['team1winlag1']).mean()['team1win'][1]"
   ]
  },
  {
   "cell_type": "markdown",
   "id": "18b1f40c-45a6-493e-8e60-1df8f2be1c64",
   "metadata": {},
   "source": [
    "The baseline taking the majority class for y is higher than the Lag 1 baseline so it is used instead."
   ]
  },
  {
   "cell_type": "markdown",
   "id": "18a58cfe-285e-49b0-a9f9-3c51891402b1",
   "metadata": {},
   "source": [
    "#### Models"
   ]
  },
  {
   "cell_type": "code",
   "execution_count": 29,
   "id": "263f10df-deb8-4a8b-905c-bb65fc08082b",
   "metadata": {},
   "outputs": [
    {
     "name": "stdout",
     "output_type": "stream",
     "text": [
      "baseline: 0.5506041110936765\n",
      "\n",
      "0: Logistic Regression Score: 0.658734682245654\n",
      "\n",
      "1: XGBoost Score: 0.6749786263892847\n",
      "\n",
      "2: Random Forest Score: 0.6550299230550014\n",
      "\n",
      "3: KNN Score: 0.5909090909090909\n",
      "\n",
      "4: Decision Tree Score: 0.5762325448845825\n",
      "\n",
      "5: Gradient Boosting Score: 0.6822456540324879\n",
      "\n",
      "6: AdaBoost Score: 0.6665716728412653\n",
      "\n",
      "7: Gaussian Naive Bayes Score: 0.6477628954117982\n",
      "\n",
      "8: Quadratic Discriminant Analysis Score: 0.5786548874323169\n"
     ]
    },
    {
     "name": "stderr",
     "output_type": "stream",
     "text": [
      "C:\\Users\\gawie\\anaconda3\\lib\\site-packages\\sklearn\\discriminant_analysis.py:887: UserWarning: Variables are collinear\n",
      "  warnings.warn(\"Variables are collinear\")\n"
     ]
    }
   ],
   "source": [
    "round_3 = pipeline(X,y)"
   ]
  },
  {
   "cell_type": "markdown",
   "id": "a65608cd-d3f7-4ca3-ac91-7635872bec17",
   "metadata": {},
   "source": [
    "Both XGBoost (.68) and Gradient Boosting (.68) have higher accuracies than the baseline (.55). Their classification reports are looked at to determine the better model. "
   ]
  },
  {
   "cell_type": "markdown",
   "id": "5bc319c9-cd94-452e-91a0-f99ee104bf2a",
   "metadata": {},
   "source": [
    "#### Classification Report"
   ]
  },
  {
   "cell_type": "code",
   "execution_count": 30,
   "id": "c7127753-bfd3-495b-b25e-b086a717d844",
   "metadata": {},
   "outputs": [
    {
     "name": "stdout",
     "output_type": "stream",
     "text": [
      "Baseline(Lag 1):\n",
      "              precision    recall  f1-score   support\n",
      "\n",
      "           0       0.43      0.42      0.43     14317\n",
      "           1       0.54      0.56      0.55     17545\n",
      "\n",
      "    accuracy                           0.49     31862\n",
      "   macro avg       0.49      0.49      0.49     31862\n",
      "weighted avg       0.49      0.49      0.49     31862\n",
      "\n",
      "XGBoost:\n",
      "              precision    recall  f1-score   support\n",
      "\n",
      "           0       0.68      0.66      0.67      3509\n",
      "           1       0.67      0.69      0.68      3509\n",
      "\n",
      "    accuracy                           0.67      7018\n",
      "   macro avg       0.68      0.67      0.67      7018\n",
      "weighted avg       0.68      0.67      0.67      7018\n",
      "\n",
      "\n",
      "Gradient Boosting\n",
      "              precision    recall  f1-score   support\n",
      "\n",
      "           0       0.67      0.71      0.69      3509\n",
      "           1       0.69      0.65      0.67      3509\n",
      "\n",
      "    accuracy                           0.68      7018\n",
      "   macro avg       0.68      0.68      0.68      7018\n",
      "weighted avg       0.68      0.68      0.68      7018\n",
      "\n"
     ]
    }
   ],
   "source": [
    "print('Baseline(Lag 1):')\n",
    "print(classification_report(y,X['team1winlag1']))\n",
    "print('XGBoost:')\n",
    "print(classification_report(round_3[10], round_3[1].predict(round_3[9])))\n",
    "print()\n",
    "print('Gradient Boosting')\n",
    "print(classification_report(round_3[10], round_3[5].predict(round_3[9])))"
   ]
  },
  {
   "cell_type": "markdown",
   "id": "4c9469a2-da31-4819-a684-c2620c430b9f",
   "metadata": {},
   "source": [
    "XGBoost is chosen over Gradient Boosting since its precision and recall for 0 and 1 are more balanced than Gradient Boosting. "
   ]
  },
  {
   "cell_type": "markdown",
   "id": "d520dba4-e500-4037-80ab-1c095e9fb1ec",
   "metadata": {},
   "source": [
    "### PCA for round 3"
   ]
  },
  {
   "cell_type": "code",
   "execution_count": 31,
   "id": "0e5307a1-15e9-4ce3-92b2-e6460cd47327",
   "metadata": {},
   "outputs": [
    {
     "data": {
      "text/plain": [
       "array([0.94403161, 0.99965416, 0.9999999 , 0.99999997, 0.99999998,\n",
       "       0.99999998, 0.99999998, 0.99999998, 0.99999998, 0.99999998,\n",
       "       0.99999998, 0.99999998, 0.99999999, 0.99999999, 0.99999999,\n",
       "       0.99999999, 0.99999999, 0.99999999, 0.99999999, 0.99999999,\n",
       "       0.99999999, 0.99999999, 0.99999999, 0.99999999, 0.99999999,\n",
       "       0.99999999, 0.99999999, 0.99999999, 1.        , 1.        ,\n",
       "       1.        , 1.        , 1.        , 1.        , 1.        ,\n",
       "       1.        , 1.        , 1.        , 1.        , 1.        ,\n",
       "       1.        , 1.        , 1.        , 1.        , 1.        ,\n",
       "       1.        , 1.        , 1.        , 1.        , 1.        ,\n",
       "       1.        , 1.        ])"
      ]
     },
     "execution_count": 31,
     "metadata": {},
     "output_type": "execute_result"
    }
   ],
   "source": [
    "pca = PCA()\n",
    "pca.fit(X)\n",
    "\n",
    "np.cumsum(pca.explained_variance_ratio_)"
   ]
  },
  {
   "cell_type": "code",
   "execution_count": 32,
   "id": "d21261bc-9cf9-46b0-bc5d-4d8b1c556c18",
   "metadata": {},
   "outputs": [
    {
     "data": {
      "text/plain": [
       "52"
      ]
     },
     "execution_count": 32,
     "metadata": {},
     "output_type": "execute_result"
    }
   ],
   "source": [
    "len(pca.explained_variance_ratio_)"
   ]
  },
  {
   "cell_type": "code",
   "execution_count": 33,
   "id": "213f5b24-abc9-4f9f-90fa-d0fa353f8201",
   "metadata": {},
   "outputs": [
    {
     "name": "stdout",
     "output_type": "stream",
     "text": [
      "baseline: 0.5506041110936765\n",
      "\n",
      "0: Logistic Regression Score: 0.6595896266742661\n",
      "\n",
      "1: XGBoost Score: 0.6598746081504702\n",
      "\n",
      "2: Random Forest Score: 0.622399544029638\n",
      "\n",
      "3: KNN Score: 0.5991735537190083\n",
      "\n",
      "4: Decision Tree Score: 0.5635508691935024\n",
      "\n",
      "5: Gradient Boosting Score: 0.6654317469364491\n",
      "\n",
      "6: AdaBoost Score: 0.6500427472214306\n",
      "\n",
      "7: Gaussian Naive Bayes Score: 0.6551724137931034\n",
      "\n",
      "8: Quadratic Discriminant Analysis Score: 0.6407808492447991\n"
     ]
    }
   ],
   "source": [
    "pca_3 = PCA(n_components=29, random_state=42)\n",
    "X_pca = pca_3.fit_transform(X)\n",
    "\n",
    "round_1_pca = pipeline(X_pca,y)"
   ]
  },
  {
   "cell_type": "markdown",
   "id": "8c405f0a-786d-4e30-82b8-06e9db67f400",
   "metadata": {},
   "source": [
    "All the PCA models perform worse than the initial XGBoost model."
   ]
  },
  {
   "cell_type": "markdown",
   "id": "6bdb2800-7c29-4e61-afc3-9b77aa25aafe",
   "metadata": {},
   "source": [
    "### Feature Importance"
   ]
  },
  {
   "cell_type": "code",
   "execution_count": 34,
   "id": "2cb9bf68-c335-4f35-a5cb-3410dea3ee66",
   "metadata": {},
   "outputs": [
    {
     "data": {
      "text/html": [
       "<div>\n",
       "<style scoped>\n",
       "    .dataframe tbody tr th:only-of-type {\n",
       "        vertical-align: middle;\n",
       "    }\n",
       "\n",
       "    .dataframe tbody tr th {\n",
       "        vertical-align: top;\n",
       "    }\n",
       "\n",
       "    .dataframe thead th {\n",
       "        text-align: right;\n",
       "    }\n",
       "</style>\n",
       "<table border=\"1\" class=\"dataframe\">\n",
       "  <thead>\n",
       "    <tr style=\"text-align: right;\">\n",
       "      <th></th>\n",
       "      <th>Feature Importance</th>\n",
       "    </tr>\n",
       "  </thead>\n",
       "  <tbody>\n",
       "    <tr>\n",
       "      <th>team1winlag1</th>\n",
       "      <td>0.275882</td>\n",
       "    </tr>\n",
       "    <tr>\n",
       "      <th>team1winlag2</th>\n",
       "      <td>0.158763</td>\n",
       "    </tr>\n",
       "    <tr>\n",
       "      <th>team1_semi_buy</th>\n",
       "      <td>0.035289</td>\n",
       "    </tr>\n",
       "    <tr>\n",
       "      <th>team1_full_buy</th>\n",
       "      <td>0.034515</td>\n",
       "    </tr>\n",
       "    <tr>\n",
       "      <th>team2_full_buy</th>\n",
       "      <td>0.027533</td>\n",
       "    </tr>\n",
       "    <tr>\n",
       "      <th>team2_semi_eco</th>\n",
       "      <td>0.022920</td>\n",
       "    </tr>\n",
       "    <tr>\n",
       "      <th>team1_semi_eco</th>\n",
       "      <td>0.021127</td>\n",
       "    </tr>\n",
       "    <tr>\n",
       "      <th>team2_eco</th>\n",
       "      <td>0.019873</td>\n",
       "    </tr>\n",
       "    <tr>\n",
       "      <th>bankdifflag2</th>\n",
       "      <td>0.017308</td>\n",
       "    </tr>\n",
       "    <tr>\n",
       "      <th>team2_semi_buy</th>\n",
       "      <td>0.016765</td>\n",
       "    </tr>\n",
       "  </tbody>\n",
       "</table>\n",
       "</div>"
      ],
      "text/plain": [
       "                Feature Importance\n",
       "team1winlag1              0.275882\n",
       "team1winlag2              0.158763\n",
       "team1_semi_buy            0.035289\n",
       "team1_full_buy            0.034515\n",
       "team2_full_buy            0.027533\n",
       "team2_semi_eco            0.022920\n",
       "team1_semi_eco            0.021127\n",
       "team2_eco                 0.019873\n",
       "bankdifflag2              0.017308\n",
       "team2_semi_buy            0.016765"
      ]
     },
     "execution_count": 34,
     "metadata": {},
     "output_type": "execute_result"
    }
   ],
   "source": [
    "round_3_feature = pd.DataFrame(index=X.columns, data = round_3[1].feature_importances_).sort_values(by=0, ascending=False)\n",
    "round_3_feature.columns = ['Feature Importance']\n",
    "round_3_feature.head(10)"
   ]
  },
  {
   "cell_type": "markdown",
   "id": "57394fed-6e62-4a17-b530-325bd084a713",
   "metadata": {},
   "source": [
    "## Round 4 Model"
   ]
  },
  {
   "cell_type": "code",
   "execution_count": 35,
   "id": "f3badaf8-c33b-455a-8e3f-53be8eee9908",
   "metadata": {},
   "outputs": [],
   "source": [
    "round_4 = pd.read_csv('../data/round_4.csv', index_col=0)\n",
    "\n",
    "X = round_4.drop(['team1win','map'], axis=1)\n",
    "y = round_4['team1win']"
   ]
  },
  {
   "cell_type": "markdown",
   "id": "edab092d-d079-4177-abcd-c8ef76f2b9a4",
   "metadata": {},
   "source": [
    "#### Model Scores"
   ]
  },
  {
   "cell_type": "code",
   "execution_count": 36,
   "id": "f7fb59c1-c5d1-4266-a9bd-cd3f27222bdd",
   "metadata": {},
   "outputs": [
    {
     "name": "stdout",
     "output_type": "stream",
     "text": [
      "baseline: 0.5775144138372837\n",
      "\n",
      "0: Logistic Regression Score: 0.6347753743760399\n",
      "\n",
      "1: XGBoost Score: 0.6831669439822518\n",
      "\n",
      "2: Random Forest Score: 0.6683305601774819\n",
      "\n",
      "3: KNN Score: 0.5901275651691625\n",
      "\n",
      "4: Decision Tree Score: 0.6145313366611204\n",
      "\n",
      "5: Gradient Boosting Score: 0.6859400998336106\n",
      "\n",
      "6: AdaBoost Score: 0.6659733777038269\n",
      "\n",
      "7: Gaussian Naive Bayes Score: 0.6285357737104825\n",
      "\n",
      "8: Quadratic Discriminant Analysis Score: 0.620077648363838\n"
     ]
    },
    {
     "name": "stderr",
     "output_type": "stream",
     "text": [
      "C:\\Users\\gawie\\anaconda3\\lib\\site-packages\\sklearn\\discriminant_analysis.py:887: UserWarning: Variables are collinear\n",
      "  warnings.warn(\"Variables are collinear\")\n"
     ]
    }
   ],
   "source": [
    "round_4 = pipeline(X,y)"
   ]
  },
  {
   "cell_type": "markdown",
   "id": "db88cfe1-9490-41a9-a8d7-65f0cb16ac21",
   "metadata": {},
   "source": [
    "XGBoost (.68) and Gradient (.69) perform better than the Time Lag 1 baseline (.60). Their classification reports are looked at to determine which model should be used"
   ]
  },
  {
   "cell_type": "markdown",
   "id": "937afbf8-c789-4a1b-9a78-83de0e05b8e6",
   "metadata": {},
   "source": [
    "#### Classification Report"
   ]
  },
  {
   "cell_type": "code",
   "execution_count": 37,
   "id": "13c7a3c1-0b4e-4dc4-ab14-f3b257b0b8e1",
   "metadata": {},
   "outputs": [
    {
     "name": "stdout",
     "output_type": "stream",
     "text": [
      "Baseline:\n",
      "              precision    recall  f1-score   support\n",
      "\n",
      "           0       0.53      0.57      0.55     13190\n",
      "           1       0.67      0.63      0.65     18027\n",
      "\n",
      "    accuracy                           0.60     31217\n",
      "   macro avg       0.60      0.60      0.60     31217\n",
      "weighted avg       0.61      0.60      0.61     31217\n",
      "\n",
      "XGBoost:\n",
      "              precision    recall  f1-score   support\n",
      "\n",
      "           0       0.71      0.61      0.66      3606\n",
      "           1       0.66      0.76      0.70      3606\n",
      "\n",
      "    accuracy                           0.68      7212\n",
      "   macro avg       0.69      0.68      0.68      7212\n",
      "weighted avg       0.69      0.68      0.68      7212\n",
      "\n",
      "\n",
      "Gradient Boosting\n",
      "              precision    recall  f1-score   support\n",
      "\n",
      "           0       0.72      0.61      0.66      3606\n",
      "           1       0.66      0.77      0.71      3606\n",
      "\n",
      "    accuracy                           0.69      7212\n",
      "   macro avg       0.69      0.69      0.68      7212\n",
      "weighted avg       0.69      0.69      0.68      7212\n",
      "\n"
     ]
    }
   ],
   "source": [
    "print('Baseline:')\n",
    "print(classification_report(y,X['team1winlag1']))\n",
    "print('XGBoost:')\n",
    "print(classification_report(round_4[10], round_4[1].predict(round_4[9])))\n",
    "print()\n",
    "print('Gradient Boosting')\n",
    "print(classification_report(round_4[10], round_4[5].predict(round_4[9])))"
   ]
  },
  {
   "cell_type": "markdown",
   "id": "0e3a7067-9a13-445e-98e0-7fd74b8ce0cf",
   "metadata": {},
   "source": [
    "Both models have simmilar balancing between precisions and recall so Gradient Boosting is chosen since it has a higher accuracy score."
   ]
  },
  {
   "cell_type": "markdown",
   "id": "d4079bb8-dcdf-4cec-8a06-2a7d1dc264f2",
   "metadata": {},
   "source": [
    "### PCA for round 4"
   ]
  },
  {
   "cell_type": "code",
   "execution_count": 38,
   "id": "31a90460-f206-4359-aff0-b90f4fdf1207",
   "metadata": {},
   "outputs": [
    {
     "data": {
      "text/plain": [
       "array([0.63489714, 0.96741416, 0.99977063, 0.99999994, 0.99999998,\n",
       "       0.99999998, 0.99999998, 0.99999999, 0.99999999, 0.99999999,\n",
       "       0.99999999, 0.99999999, 0.99999999, 0.99999999, 0.99999999,\n",
       "       0.99999999, 0.99999999, 0.99999999, 0.99999999, 0.99999999,\n",
       "       0.99999999, 0.99999999, 0.99999999, 0.99999999, 1.        ,\n",
       "       1.        , 1.        , 1.        , 1.        , 1.        ,\n",
       "       1.        , 1.        , 1.        , 1.        , 1.        ,\n",
       "       1.        , 1.        , 1.        , 1.        , 1.        ,\n",
       "       1.        , 1.        , 1.        , 1.        , 1.        ,\n",
       "       1.        , 1.        , 1.        , 1.        , 1.        ,\n",
       "       1.        , 1.        , 1.        , 1.        ])"
      ]
     },
     "execution_count": 38,
     "metadata": {},
     "output_type": "execute_result"
    }
   ],
   "source": [
    "pca = PCA()\n",
    "pca.fit(X)\n",
    "\n",
    "np.cumsum(pca.explained_variance_ratio_)"
   ]
  },
  {
   "cell_type": "code",
   "execution_count": 39,
   "id": "58a26fb1-3087-46ba-bbc4-76e66267d533",
   "metadata": {},
   "outputs": [
    {
     "data": {
      "text/plain": [
       "54"
      ]
     },
     "execution_count": 39,
     "metadata": {},
     "output_type": "execute_result"
    }
   ],
   "source": [
    "len(pca.explained_variance_ratio_)"
   ]
  },
  {
   "cell_type": "markdown",
   "id": "1eca4fb3-b6be-4930-82f0-f4c6f131bd77",
   "metadata": {},
   "source": [
    "#### PCA Scores"
   ]
  },
  {
   "cell_type": "code",
   "execution_count": 40,
   "id": "c827fce5-be3a-45aa-9a13-5805b25d7628",
   "metadata": {},
   "outputs": [
    {
     "name": "stdout",
     "output_type": "stream",
     "text": [
      "baseline: 0.5775144138372837\n",
      "\n",
      "0: Logistic Regression Score: 0.6368552412645591\n",
      "\n",
      "1: XGBoost Score: 0.656128674431503\n",
      "\n",
      "2: Random Forest Score: 0.6405990016638935\n",
      "\n",
      "3: KNN Score: 0.5908208541320022\n",
      "\n",
      "4: Decision Tree Score: 0.5696062118691071\n",
      "\n",
      "5: Gradient Boosting Score: 0.6540488075429839\n",
      "\n",
      "6: AdaBoost Score: 0.6407376594564614\n",
      "\n",
      "7: Gaussian Naive Bayes Score: 0.6328341652800887\n",
      "\n",
      "8: Quadratic Discriminant Analysis Score: 0.641846921797005\n"
     ]
    }
   ],
   "source": [
    "pca_4 = PCA(n_components=36, random_state=42)\n",
    "X_pca = pca_4.fit_transform(X)\n",
    "\n",
    "round_1_pca = pipeline(X_pca,y)"
   ]
  },
  {
   "cell_type": "markdown",
   "id": "5eac71da-1037-4b2d-b0f3-952bdd835699",
   "metadata": {},
   "source": [
    "None of of the PCA models have higher accuracy so the initial Gradient Boosting model is chosen."
   ]
  },
  {
   "cell_type": "markdown",
   "id": "b234d1a8-c5b6-48a2-8fa0-21814e73ae94",
   "metadata": {},
   "source": [
    "### Feature Importance"
   ]
  },
  {
   "cell_type": "code",
   "execution_count": 41,
   "id": "1dd4c334-6baa-49db-915c-781838aa5124",
   "metadata": {},
   "outputs": [
    {
     "data": {
      "text/html": [
       "<div>\n",
       "<style scoped>\n",
       "    .dataframe tbody tr th:only-of-type {\n",
       "        vertical-align: middle;\n",
       "    }\n",
       "\n",
       "    .dataframe tbody tr th {\n",
       "        vertical-align: top;\n",
       "    }\n",
       "\n",
       "    .dataframe thead th {\n",
       "        text-align: right;\n",
       "    }\n",
       "</style>\n",
       "<table border=\"1\" class=\"dataframe\">\n",
       "  <thead>\n",
       "    <tr style=\"text-align: right;\">\n",
       "      <th></th>\n",
       "      <th>Feature Importance</th>\n",
       "    </tr>\n",
       "  </thead>\n",
       "  <tbody>\n",
       "    <tr>\n",
       "      <th>team2_full_buy</th>\n",
       "      <td>0.281066</td>\n",
       "    </tr>\n",
       "    <tr>\n",
       "      <th>bankdifflag3</th>\n",
       "      <td>0.147573</td>\n",
       "    </tr>\n",
       "    <tr>\n",
       "      <th>team1_full_buy</th>\n",
       "      <td>0.095344</td>\n",
       "    </tr>\n",
       "    <tr>\n",
       "      <th>team2_semi_eco</th>\n",
       "      <td>0.084091</td>\n",
       "    </tr>\n",
       "    <tr>\n",
       "      <th>team2_semi_buy</th>\n",
       "      <td>0.068451</td>\n",
       "    </tr>\n",
       "    <tr>\n",
       "      <th>rounddiff</th>\n",
       "      <td>0.059613</td>\n",
       "    </tr>\n",
       "    <tr>\n",
       "      <th>team1winlag1</th>\n",
       "      <td>0.055397</td>\n",
       "    </tr>\n",
       "    <tr>\n",
       "      <th>team1_semi_eco</th>\n",
       "      <td>0.053198</td>\n",
       "    </tr>\n",
       "    <tr>\n",
       "      <th>team1_semi_buy</th>\n",
       "      <td>0.034222</td>\n",
       "    </tr>\n",
       "    <tr>\n",
       "      <th>team1winlag3</th>\n",
       "      <td>0.022998</td>\n",
       "    </tr>\n",
       "  </tbody>\n",
       "</table>\n",
       "</div>"
      ],
      "text/plain": [
       "                Feature Importance\n",
       "team2_full_buy            0.281066\n",
       "bankdifflag3              0.147573\n",
       "team1_full_buy            0.095344\n",
       "team2_semi_eco            0.084091\n",
       "team2_semi_buy            0.068451\n",
       "rounddiff                 0.059613\n",
       "team1winlag1              0.055397\n",
       "team1_semi_eco            0.053198\n",
       "team1_semi_buy            0.034222\n",
       "team1winlag3              0.022998"
      ]
     },
     "execution_count": 41,
     "metadata": {},
     "output_type": "execute_result"
    }
   ],
   "source": [
    "round_4_feature = pd.DataFrame(index=X.columns, data = round_4[5].feature_importances_).sort_values(by=0, ascending=False)\n",
    "round_4_feature.columns = ['Feature Importance']\n",
    "round_4_feature.head(10)"
   ]
  },
  {
   "cell_type": "markdown",
   "id": "dfe3ea95-4b3d-4ddb-a07d-5bd6218c9644",
   "metadata": {},
   "source": [
    "## Overtime Rounds Model"
   ]
  },
  {
   "cell_type": "code",
   "execution_count": 42,
   "id": "c02fd573-1370-4cb2-87f7-4efe20b354c8",
   "metadata": {},
   "outputs": [],
   "source": [
    "ot_rounds= pd.read_csv('../data/round_ot.csv', index_col=0)\n",
    "\n",
    "X = ot_rounds.drop(['team1win','map'], axis=1)\n",
    "y = ot_rounds['team1win']"
   ]
  },
  {
   "cell_type": "code",
   "execution_count": 43,
   "id": "7efb0c28-bae0-4cb8-9cf3-9e73deebea4a",
   "metadata": {},
   "outputs": [
    {
     "name": "stdout",
     "output_type": "stream",
     "text": [
      "baseline: 0.584051724137931\n",
      "\n",
      "0: Logistic Regression Score: 0.513530135301353\n",
      "\n",
      "1: XGBoost Score: 0.6008610086100861\n",
      "\n",
      "2: Random Forest Score: 0.5867158671586716\n",
      "\n",
      "3: KNN Score: 0.515990159901599\n",
      "\n",
      "4: Decision Tree Score: 0.541820418204182\n",
      "\n",
      "5: Gradient Boosting Score: 0.5904059040590406\n",
      "\n",
      "6: AdaBoost Score: 0.5645756457564576\n",
      "\n",
      "7: Gaussian Naive Bayes Score: 0.4981549815498155\n",
      "\n",
      "8: Quadratic Discriminant Analysis Score: 0.4981549815498155\n"
     ]
    }
   ],
   "source": [
    "ot_rounds = pipeline(X,y)"
   ]
  },
  {
   "cell_type": "markdown",
   "id": "5d910667-0841-4814-9d06-f19e99fb5cab",
   "metadata": {},
   "source": [
    "XGBoost (.60) and Gradient Boosting (.59) have simmilar accuracies and are both above the baseline (.58)."
   ]
  },
  {
   "cell_type": "markdown",
   "id": "a41ffc88-0ac5-401d-8eda-af62f4897200",
   "metadata": {},
   "source": [
    "### PCA for Overtime"
   ]
  },
  {
   "cell_type": "code",
   "execution_count": 44,
   "id": "c8fc7e21-4af3-42d9-b597-fa014d013883",
   "metadata": {},
   "outputs": [
    {
     "data": {
      "text/plain": [
       "array([0.13923792, 0.20695447, 0.26430286, 0.31331388, 0.35966101,\n",
       "       0.40358606, 0.4431776 , 0.48184371, 0.51678431, 0.55110993,\n",
       "       0.58273126, 0.61233005, 0.64020331, 0.66618622, 0.6913782 ,\n",
       "       0.71587452, 0.73919087, 0.76180976, 0.78359278, 0.80441086,\n",
       "       0.82422546, 0.84330791, 0.8615512 , 0.87895079, 0.89461215,\n",
       "       0.90958836, 0.92339657, 0.93493293, 0.94619237, 0.95688877,\n",
       "       0.96755737, 0.97527466, 0.98207041, 0.98749338, 0.99185089,\n",
       "       0.9952253 , 0.99753985, 0.9995185 , 1.        ])"
      ]
     },
     "execution_count": 44,
     "metadata": {},
     "output_type": "execute_result"
    }
   ],
   "source": [
    "pca = PCA()\n",
    "pca.fit(X)\n",
    "\n",
    "np.cumsum(pca.explained_variance_ratio_)"
   ]
  },
  {
   "cell_type": "code",
   "execution_count": 45,
   "id": "3acdbae9-8895-4497-a016-0d8e5009ef51",
   "metadata": {},
   "outputs": [
    {
     "data": {
      "text/plain": [
       "39"
      ]
     },
     "execution_count": 45,
     "metadata": {},
     "output_type": "execute_result"
    }
   ],
   "source": [
    "len(pca.explained_variance_ratio_)"
   ]
  },
  {
   "cell_type": "code",
   "execution_count": 46,
   "id": "10f40e6a-a9b6-4fad-b323-2a9b16139d16",
   "metadata": {},
   "outputs": [
    {
     "name": "stdout",
     "output_type": "stream",
     "text": [
      "baseline: 0.584051724137931\n",
      "\n",
      "0: Logistic Regression Score: 0.522140221402214\n",
      "\n",
      "1: XGBoost Score: 0.5842558425584256\n",
      "\n",
      "2: Random Forest Score: 0.5781057810578106\n",
      "\n",
      "3: KNN Score: 0.518450184501845\n",
      "\n",
      "4: Decision Tree Score: 0.5313653136531366\n",
      "\n",
      "5: Gradient Boosting Score: 0.5713407134071341\n",
      "\n",
      "6: AdaBoost Score: 0.5615006150061501\n",
      "\n",
      "7: Gaussian Naive Bayes Score: 0.5264452644526445\n",
      "\n",
      "8: Quadratic Discriminant Analysis Score: 0.502460024600246\n"
     ]
    }
   ],
   "source": [
    "pca_ot = PCA(n_components=39, random_state=42)\n",
    "X_pca = pca_ot.fit_transform(X)\n",
    "\n",
    "round_1_pca = pipeline(X_pca,y)"
   ]
  },
  {
   "cell_type": "code",
   "execution_count": 47,
   "id": "5f4fda44-f489-4495-a8f9-fc847168daaa",
   "metadata": {},
   "outputs": [
    {
     "name": "stdout",
     "output_type": "stream",
     "text": [
      "XGBoost:\n",
      "              precision    recall  f1-score   support\n",
      "\n",
      "           0       0.61      0.56      0.59       813\n",
      "           1       0.59      0.64      0.61       813\n",
      "\n",
      "    accuracy                           0.60      1626\n",
      "   macro avg       0.60      0.60      0.60      1626\n",
      "weighted avg       0.60      0.60      0.60      1626\n",
      "\n",
      "\n",
      "Gradient Boosting\n",
      "              precision    recall  f1-score   support\n",
      "\n",
      "           0       0.65      0.40      0.49       813\n",
      "           1       0.57      0.78      0.66       813\n",
      "\n",
      "    accuracy                           0.59      1626\n",
      "   macro avg       0.61      0.59      0.57      1626\n",
      "weighted avg       0.61      0.59      0.57      1626\n",
      "\n"
     ]
    }
   ],
   "source": [
    "print('XGBoost:')\n",
    "print(classification_report(ot_rounds[10], ot_rounds[1].predict(ot_rounds[9])))\n",
    "print()\n",
    "print('Gradient Boosting')\n",
    "print(classification_report(ot_rounds[10], ot_rounds[5].predict(ot_rounds[9])))"
   ]
  },
  {
   "cell_type": "markdown",
   "id": "656d5ca1-ae0d-40c8-9ec2-f4f4be6232e5",
   "metadata": {},
   "source": [
    "XGBoost is chosen since all of its accuracy is higher and its precision and recall are more balanced for 0 and 1."
   ]
  },
  {
   "cell_type": "code",
   "execution_count": 48,
   "id": "00353665-ac94-4abd-823f-b8ecb29f9d94",
   "metadata": {},
   "outputs": [
    {
     "data": {
      "text/html": [
       "<div>\n",
       "<style scoped>\n",
       "    .dataframe tbody tr th:only-of-type {\n",
       "        vertical-align: middle;\n",
       "    }\n",
       "\n",
       "    .dataframe tbody tr th {\n",
       "        vertical-align: top;\n",
       "    }\n",
       "\n",
       "    .dataframe thead th {\n",
       "        text-align: right;\n",
       "    }\n",
       "</style>\n",
       "<table border=\"1\" class=\"dataframe\">\n",
       "  <thead>\n",
       "    <tr style=\"text-align: right;\">\n",
       "      <th></th>\n",
       "      <th>Feature Importance</th>\n",
       "    </tr>\n",
       "  </thead>\n",
       "  <tbody>\n",
       "    <tr>\n",
       "      <th>rounddiff</th>\n",
       "      <td>0.083379</td>\n",
       "    </tr>\n",
       "    <tr>\n",
       "      <th>team1_only_omen</th>\n",
       "      <td>0.041743</td>\n",
       "    </tr>\n",
       "    <tr>\n",
       "      <th>team1_only_killjoy</th>\n",
       "      <td>0.036296</td>\n",
       "    </tr>\n",
       "    <tr>\n",
       "      <th>team2_only_killjoy</th>\n",
       "      <td>0.033328</td>\n",
       "    </tr>\n",
       "    <tr>\n",
       "      <th>team1_only_reyna</th>\n",
       "      <td>0.032030</td>\n",
       "    </tr>\n",
       "    <tr>\n",
       "      <th>team1_only_raze</th>\n",
       "      <td>0.030697</td>\n",
       "    </tr>\n",
       "    <tr>\n",
       "      <th>team1_only_breach</th>\n",
       "      <td>0.030368</td>\n",
       "    </tr>\n",
       "    <tr>\n",
       "      <th>team1_only_cypher</th>\n",
       "      <td>0.030040</td>\n",
       "    </tr>\n",
       "    <tr>\n",
       "      <th>team1_only_sova</th>\n",
       "      <td>0.028799</td>\n",
       "    </tr>\n",
       "    <tr>\n",
       "      <th>team2_only_raze</th>\n",
       "      <td>0.028482</td>\n",
       "    </tr>\n",
       "  </tbody>\n",
       "</table>\n",
       "</div>"
      ],
      "text/plain": [
       "                    Feature Importance\n",
       "rounddiff                     0.083379\n",
       "team1_only_omen               0.041743\n",
       "team1_only_killjoy            0.036296\n",
       "team2_only_killjoy            0.033328\n",
       "team1_only_reyna              0.032030\n",
       "team1_only_raze               0.030697\n",
       "team1_only_breach             0.030368\n",
       "team1_only_cypher             0.030040\n",
       "team1_only_sova               0.028799\n",
       "team2_only_raze               0.028482"
      ]
     },
     "execution_count": 48,
     "metadata": {},
     "output_type": "execute_result"
    }
   ],
   "source": [
    "round_ot_feature = pd.DataFrame(index=X.columns, data = ot_rounds[1].feature_importances_).sort_values(by=0, ascending=False)\n",
    "round_ot_feature.columns = ['Feature Importance']\n",
    "round_ot_feature.head(10)"
   ]
  },
  {
   "cell_type": "markdown",
   "id": "f02a7c4b-4fe0-4090-9225-edfaea9e8e86",
   "metadata": {},
   "source": [
    "## Mid-Game Rounds Model"
   ]
  },
  {
   "cell_type": "code",
   "execution_count": 49,
   "id": "adb44e61-25e2-4a83-a634-e81a47c51e68",
   "metadata": {},
   "outputs": [],
   "source": [
    "rounds= pd.read_csv('../data/rounds.csv', index_col=0)\n",
    "\n",
    "X = rounds.drop(['team1win','map'], axis=1)\n",
    "y = rounds['team1win']"
   ]
  },
  {
   "cell_type": "markdown",
   "id": "c192c075-1366-456f-b4fa-0dfc5c78fef1",
   "metadata": {},
   "source": [
    "#### Modeling"
   ]
  },
  {
   "cell_type": "code",
   "execution_count": 50,
   "id": "f279580b-d59c-4641-a39d-e712b324a9e7",
   "metadata": {},
   "outputs": [
    {
     "name": "stdout",
     "output_type": "stream",
     "text": [
      "baseline: 0.571417986020204\n",
      "\n",
      "0: Logistic Regression Score: 0.6019667170953101\n",
      "\n",
      "1: XGBoost Score: 0.6659390533823212\n",
      "\n",
      "2: Random Forest Score: 0.6347957639939485\n",
      "\n",
      "3: KNN Score: 0.5662200129673655\n",
      "\n",
      "4: Decision Tree Score: 0.5851523665441971\n",
      "\n",
      "5: Gradient Boosting Score: 0.6630862329803329\n",
      "\n",
      "6: AdaBoost Score: 0.6229522368705425\n",
      "\n",
      "7: Gaussian Naive Bayes Score: 0.5993300194510482\n",
      "\n"
     ]
    },
    {
     "name": "stderr",
     "output_type": "stream",
     "text": [
      "C:\\Users\\gawie\\anaconda3\\lib\\site-packages\\sklearn\\discriminant_analysis.py:887: UserWarning: Variables are collinear\n",
      "  warnings.warn(\"Variables are collinear\")\n"
     ]
    },
    {
     "name": "stdout",
     "output_type": "stream",
     "text": [
      "8: Quadratic Discriminant Analysis Score: 0.5869029608817808\n"
     ]
    }
   ],
   "source": [
    "mid_game = pipeline(X,y)"
   ]
  },
  {
   "cell_type": "code",
   "execution_count": 51,
   "id": "1073689c-6753-4977-a5f6-ab3d906f228d",
   "metadata": {},
   "outputs": [
    {
     "name": "stdout",
     "output_type": "stream",
     "text": [
      "Baseline:\n",
      "              precision    recall  f1-score   support\n",
      "\n",
      "           0       0.53      0.54      0.54     86762\n",
      "           1       0.65      0.64      0.65    115672\n",
      "\n",
      "    accuracy                           0.60    202434\n",
      "   macro avg       0.59      0.59      0.59    202434\n",
      "weighted avg       0.60      0.60      0.60    202434\n",
      "\n",
      "XGBoost:\n",
      "              precision    recall  f1-score   support\n",
      "\n",
      "           0       0.74      0.51      0.60     23135\n",
      "           1       0.63      0.83      0.71     23135\n",
      "\n",
      "    accuracy                           0.67     46270\n",
      "   macro avg       0.69      0.67      0.66     46270\n",
      "weighted avg       0.69      0.67      0.66     46270\n",
      "\n",
      "\n",
      "Gradient Boosting\n",
      "              precision    recall  f1-score   support\n",
      "\n",
      "           0       0.73      0.52      0.61     23135\n",
      "           1       0.63      0.81      0.70     23135\n",
      "\n",
      "    accuracy                           0.66     46270\n",
      "   macro avg       0.68      0.66      0.66     46270\n",
      "weighted avg       0.68      0.66      0.66     46270\n",
      "\n"
     ]
    }
   ],
   "source": [
    "print('Baseline:')\n",
    "print(classification_report(y,X['team1winlag1']))\n",
    "print('XGBoost:')\n",
    "print(classification_report(mid_game[10], mid_game[1].predict(mid_game[9])))\n",
    "print()\n",
    "print('Gradient Boosting')\n",
    "print(classification_report(mid_game[10], mid_game[5].predict(mid_game[9])))"
   ]
  },
  {
   "cell_type": "markdown",
   "id": "c5f4a6e3-dc54-43a8-8659-1d3d8c1e1b8c",
   "metadata": {},
   "source": [
    "XGBoost (.67) performs better than the baseline (.60) and Gradient Boosting (.66) so it is chosen."
   ]
  },
  {
   "cell_type": "markdown",
   "id": "74fef558-742b-4f1a-a2d5-ea2d41aa27c5",
   "metadata": {},
   "source": [
    "### PCA for Mid-Game Rounds"
   ]
  },
  {
   "cell_type": "code",
   "execution_count": 52,
   "id": "3fcb4e12-b16f-401a-a595-f8375a57b094",
   "metadata": {},
   "outputs": [
    {
     "data": {
      "text/plain": [
       "array([0.63857317, 0.80637996, 0.91434997, 0.99999998, 0.99999999,\n",
       "       0.99999999, 0.99999999, 0.99999999, 1.        , 1.        ,\n",
       "       1.        , 1.        , 1.        , 1.        , 1.        ,\n",
       "       1.        , 1.        , 1.        , 1.        , 1.        ,\n",
       "       1.        , 1.        , 1.        , 1.        , 1.        ,\n",
       "       1.        , 1.        , 1.        , 1.        , 1.        ,\n",
       "       1.        , 1.        , 1.        , 1.        , 1.        ,\n",
       "       1.        , 1.        , 1.        , 1.        , 1.        ,\n",
       "       1.        , 1.        , 1.        , 1.        , 1.        ,\n",
       "       1.        , 1.        , 1.        , 1.        , 1.        ,\n",
       "       1.        , 1.        , 1.        , 1.        , 1.        ])"
      ]
     },
     "execution_count": 52,
     "metadata": {},
     "output_type": "execute_result"
    }
   ],
   "source": [
    "pca = PCA()\n",
    "pca.fit(X)\n",
    "\n",
    "np.cumsum(pca.explained_variance_ratio_)"
   ]
  },
  {
   "cell_type": "code",
   "execution_count": 53,
   "id": "6c7a8afe-e87e-468d-84f3-d3eb91c24d77",
   "metadata": {},
   "outputs": [
    {
     "data": {
      "text/plain": [
       "55"
      ]
     },
     "execution_count": 53,
     "metadata": {},
     "output_type": "execute_result"
    }
   ],
   "source": [
    "len(pca.explained_variance_ratio_)"
   ]
  },
  {
   "cell_type": "markdown",
   "id": "d85b9e3b-1d57-4312-ad7d-a441bb395b61",
   "metadata": {},
   "source": [
    "#### PCA Modeling"
   ]
  },
  {
   "cell_type": "code",
   "execution_count": 54,
   "id": "ffb8831e-2950-428b-bd2f-5a39866a0a6d",
   "metadata": {},
   "outputs": [],
   "source": [
    "# pca_rounds = PCA(n_components=30, random_state=42)\n",
    "# X_pca = pca_rounds.fit_transform(X)"
   ]
  },
  {
   "cell_type": "code",
   "execution_count": 55,
   "id": "dca2db70-4e4c-42f9-8b93-33e4cfb6f0df",
   "metadata": {},
   "outputs": [],
   "source": [
    "# round_1_pca = pipeline(X_pca,y)"
   ]
  },
  {
   "cell_type": "markdown",
   "id": "0a274cac-9ff9-4aaf-b331-56bd5478b004",
   "metadata": {},
   "source": [
    "None of the PCA models perform better than the initial XGBoost model so it is chosen."
   ]
  },
  {
   "cell_type": "code",
   "execution_count": 56,
   "id": "50524a67-b987-479e-9821-eeaea5569918",
   "metadata": {},
   "outputs": [
    {
     "data": {
      "text/html": [
       "<div>\n",
       "<style scoped>\n",
       "    .dataframe tbody tr th:only-of-type {\n",
       "        vertical-align: middle;\n",
       "    }\n",
       "\n",
       "    .dataframe tbody tr th {\n",
       "        vertical-align: top;\n",
       "    }\n",
       "\n",
       "    .dataframe thead th {\n",
       "        text-align: right;\n",
       "    }\n",
       "</style>\n",
       "<table border=\"1\" class=\"dataframe\">\n",
       "  <thead>\n",
       "    <tr style=\"text-align: right;\">\n",
       "      <th></th>\n",
       "      <th>Feature Importance</th>\n",
       "    </tr>\n",
       "  </thead>\n",
       "  <tbody>\n",
       "    <tr>\n",
       "      <th>team2_full_buy</th>\n",
       "      <td>0.210781</td>\n",
       "    </tr>\n",
       "    <tr>\n",
       "      <th>team1_full_buy</th>\n",
       "      <td>0.099001</td>\n",
       "    </tr>\n",
       "    <tr>\n",
       "      <th>team1winlag3</th>\n",
       "      <td>0.096463</td>\n",
       "    </tr>\n",
       "    <tr>\n",
       "      <th>team2_semi_buy</th>\n",
       "      <td>0.082458</td>\n",
       "    </tr>\n",
       "    <tr>\n",
       "      <th>team1winlag1</th>\n",
       "      <td>0.062545</td>\n",
       "    </tr>\n",
       "    <tr>\n",
       "      <th>team1winlag4</th>\n",
       "      <td>0.060533</td>\n",
       "    </tr>\n",
       "    <tr>\n",
       "      <th>team1winlag2</th>\n",
       "      <td>0.056330</td>\n",
       "    </tr>\n",
       "    <tr>\n",
       "      <th>team1_semi_buy</th>\n",
       "      <td>0.056209</td>\n",
       "    </tr>\n",
       "    <tr>\n",
       "      <th>rounddiff</th>\n",
       "      <td>0.035547</td>\n",
       "    </tr>\n",
       "    <tr>\n",
       "      <th>team2_semi_eco</th>\n",
       "      <td>0.027285</td>\n",
       "    </tr>\n",
       "  </tbody>\n",
       "</table>\n",
       "</div>"
      ],
      "text/plain": [
       "                Feature Importance\n",
       "team2_full_buy            0.210781\n",
       "team1_full_buy            0.099001\n",
       "team1winlag3              0.096463\n",
       "team2_semi_buy            0.082458\n",
       "team1winlag1              0.062545\n",
       "team1winlag4              0.060533\n",
       "team1winlag2              0.056330\n",
       "team1_semi_buy            0.056209\n",
       "rounddiff                 0.035547\n",
       "team2_semi_eco            0.027285"
      ]
     },
     "execution_count": 56,
     "metadata": {},
     "output_type": "execute_result"
    }
   ],
   "source": [
    "rounds_feature = pd.DataFrame(index=X.columns, data = mid_game[1].feature_importances_).sort_values(by=0, ascending=False)\n",
    "rounds_feature.columns = ['Feature Importance']\n",
    "rounds_feature.head(10)"
   ]
  },
  {
   "cell_type": "markdown",
   "id": "e01ac9eb-85c8-4061-b34c-ecd594976bc6",
   "metadata": {},
   "source": [
    "In every case the model performed simmilarly to the baseline or better with higher precision and recall statistics. Tuning these models may even increase their accuracies even more. These models show that valorant round winners can be predicted based on very few metrics. Adding a few more metrics or switching buy type to loadout value may provide even greater results. The possibility of also adding whether or not a team has ultimate abilities for the round may also improve accuracy as well. More investigation needs to be done in this matter. This modeling can also be seen as the begining of an even more useful model that shows round win probabilities througout each round rather than just at the begining."
   ]
  },
  {
   "cell_type": "code",
   "execution_count": null,
   "id": "01e54c5f-7315-4dd8-b5e1-c2842419ee95",
   "metadata": {},
   "outputs": [],
   "source": []
  }
 ],
 "metadata": {
  "kernelspec": {
   "display_name": "Python 3 (ipykernel)",
   "language": "python",
   "name": "python3"
  },
  "language_info": {
   "codemirror_mode": {
    "name": "ipython",
    "version": 3
   },
   "file_extension": ".py",
   "mimetype": "text/x-python",
   "name": "python",
   "nbconvert_exporter": "python",
   "pygments_lexer": "ipython3",
   "version": "3.9.12"
  }
 },
 "nbformat": 4,
 "nbformat_minor": 5
}
